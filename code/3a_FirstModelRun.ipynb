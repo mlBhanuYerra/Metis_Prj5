{
 "cells": [
  {
   "cell_type": "code",
   "execution_count": 9,
   "metadata": {
    "ExecuteTime": {
     "end_time": "2019-11-26T15:10:00.086315Z",
     "start_time": "2019-11-26T15:09:56.214055Z"
    }
   },
   "outputs": [
    {
     "name": "stderr",
     "output_type": "stream",
     "text": [
      "Using TensorFlow backend.\n",
      "//anaconda3/envs/metis/lib/python3.7/site-packages/tensorflow/python/framework/dtypes.py:526: FutureWarning: Passing (type, 1) or '1type' as a synonym of type is deprecated; in a future version of numpy, it will be understood as (type, (1,)) / '(1,)type'.\n",
      "  _np_qint8 = np.dtype([(\"qint8\", np.int8, 1)])\n",
      "//anaconda3/envs/metis/lib/python3.7/site-packages/tensorflow/python/framework/dtypes.py:527: FutureWarning: Passing (type, 1) or '1type' as a synonym of type is deprecated; in a future version of numpy, it will be understood as (type, (1,)) / '(1,)type'.\n",
      "  _np_quint8 = np.dtype([(\"quint8\", np.uint8, 1)])\n",
      "//anaconda3/envs/metis/lib/python3.7/site-packages/tensorflow/python/framework/dtypes.py:528: FutureWarning: Passing (type, 1) or '1type' as a synonym of type is deprecated; in a future version of numpy, it will be understood as (type, (1,)) / '(1,)type'.\n",
      "  _np_qint16 = np.dtype([(\"qint16\", np.int16, 1)])\n",
      "//anaconda3/envs/metis/lib/python3.7/site-packages/tensorflow/python/framework/dtypes.py:529: FutureWarning: Passing (type, 1) or '1type' as a synonym of type is deprecated; in a future version of numpy, it will be understood as (type, (1,)) / '(1,)type'.\n",
      "  _np_quint16 = np.dtype([(\"quint16\", np.uint16, 1)])\n",
      "//anaconda3/envs/metis/lib/python3.7/site-packages/tensorflow/python/framework/dtypes.py:530: FutureWarning: Passing (type, 1) or '1type' as a synonym of type is deprecated; in a future version of numpy, it will be understood as (type, (1,)) / '(1,)type'.\n",
      "  _np_qint32 = np.dtype([(\"qint32\", np.int32, 1)])\n",
      "//anaconda3/envs/metis/lib/python3.7/site-packages/tensorflow/python/framework/dtypes.py:535: FutureWarning: Passing (type, 1) or '1type' as a synonym of type is deprecated; in a future version of numpy, it will be understood as (type, (1,)) / '(1,)type'.\n",
      "  np_resource = np.dtype([(\"resource\", np.ubyte, 1)])\n"
     ]
    }
   ],
   "source": [
    "import cv2\n",
    "\n",
    "import numpy as np\n",
    "import pandas as pd\n",
    "from joblib import load, dump\n",
    "\n",
    "import matplotlib.pyplot as plt\n",
    "import matplotlib.animation as animation\n",
    "%matplotlib inline\n",
    "\n",
    "# keras\n",
    "np.random.seed(13)\n",
    "from keras.models import Sequential\n",
    "from keras.layers import (Dense, Embedding, Reshape, Activation, \n",
    "                          SimpleRNN, LSTM, Convolution1D, \n",
    "                          MaxPooling1D, Dropout, Bidirectional)\n",
    "from keras.utils import np_utils\n",
    "from keras.utils.data_utils import get_file\n",
    "from keras.preprocessing import sequence\n",
    "from keras.optimizers import SGD, RMSprop\n",
    "\n",
    "nPoints = 18\n",
    "\n",
    "KEYPOINTS = ['Nose', 'Neck', 'R-Sho', 'R-Elb', 'R-Wr', 'L-Sho', \n",
    "                    'L-Elb', 'L-Wr', 'R-Hip', 'R-Knee', 'R-Ank', 'L-Hip', \n",
    "                    'L-Knee', 'L-Ank', 'R-Eye', 'L-Eye', 'R-Ear', 'L-Ear']\n",
    "\n",
    "POSE_PAIRS = [[1,2], [1,5], [2,3], [3,4], [5,6], [6,7],\n",
    "              [1,8], [8,9], [9,10], [1,11], [11,12], [12,13],\n",
    "              [1,0], [0,14], [14,16], [0,15], [15,17],\n",
    "              [2,17], [5,16]]\n",
    "\n",
    "\n",
    "pose_data_file = \"../data/frames/forRNN_pose_by_daner.out\"\n",
    "pose_data_by_dancer = load(pose_data_file)"
   ]
  },
  {
   "cell_type": "code",
   "execution_count": 112,
   "metadata": {
    "ExecuteTime": {
     "end_time": "2019-11-26T21:51:31.860311Z",
     "start_time": "2019-11-26T21:51:31.470402Z"
    }
   },
   "outputs": [],
   "source": [
    "dancers = len(pose_data_by_dancer)\n",
    "X = []\n",
    "y = []\n",
    "seqLen = 48\n",
    "slide = 2\n",
    "\n",
    "for dancer in range(dancers):\n",
    "    pose_coords = pose_data_by_dancer[dancer]\n",
    "    poses = len(pose_coords)\n",
    "    if poses<60:\n",
    "        continue #go to next dancer\n",
    "    \n",
    "    for i in range(0, poses - seqLen, slide):\n",
    "        X.append(pose_coords[i:i+seqLen])\n",
    "        y.append(pose_coords[i+seqLen])\n",
    "\n",
    "X = np.array(X)\n",
    "y = np.array(y)"
   ]
  },
  {
   "cell_type": "code",
   "execution_count": 113,
   "metadata": {
    "ExecuteTime": {
     "end_time": "2019-11-26T21:51:34.757881Z",
     "start_time": "2019-11-26T21:51:34.753449Z"
    }
   },
   "outputs": [
    {
     "name": "stdout",
     "output_type": "stream",
     "text": [
      "(16189, 48, 36)\n",
      "(16189, 36)\n"
     ]
    }
   ],
   "source": [
    "print(X.shape)\n",
    "print(y.shape)"
   ]
  },
  {
   "cell_type": "code",
   "execution_count": 116,
   "metadata": {
    "ExecuteTime": {
     "end_time": "2019-11-26T21:58:08.023960Z",
     "start_time": "2019-11-26T21:55:39.671375Z"
    },
    "scrolled": true
   },
   "outputs": [
    {
     "name": "stdout",
     "output_type": "stream",
     "text": [
      "Build model...\n",
      "Epoch 1/3\n",
      "16189/16189 [==============================] - 51s 3ms/step - loss: 56884.4789 - mean_squared_error: 56884.4789\n",
      "Epoch 2/3\n",
      "16189/16189 [==============================] - 48s 3ms/step - loss: 49463.7432 - mean_squared_error: 49463.7432\n",
      "Epoch 3/3\n",
      "16189/16189 [==============================] - 48s 3ms/step - loss: 43133.6301 - mean_squared_error: 43133.6301\n"
     ]
    }
   ],
   "source": [
    "from keras.callbacks import EarlyStopping\n",
    "early_stopping = EarlyStopping(monitor='loss', min_delta = 0.01, patience=3, verbose=1)\n",
    "\n",
    "\n",
    "# Model\n",
    "print('Build model...')\n",
    "salsa_model = Sequential()\n",
    "salsa_model.add(LSTM(36, input_shape=(seqLen, 36), return_sequences=True))\n",
    "salsa_model.add(LSTM(36, input_shape=(seqLen, 36), return_sequences=True))\n",
    "salsa_model.add(LSTM(36, input_shape=(seqLen, 36), return_sequences=False))\n",
    "salsa_model.add(Dense(36))\n",
    "salsa_model.compile(optimizer='adam', loss='mse', metrics=['mse'])\n",
    "hist = salsa_model.fit(X, y, epochs=3, verbose=True, callbacks=[early_stopping])\n",
    "\n",
    "#optimizer = RMSprop(lr=0.0"
   ]
  },
  {
   "cell_type": "code",
   "execution_count": null,
   "metadata": {},
   "outputs": [],
   "source": [
    "#--- Early Stopping\n",
    "from keras.callbacks import EarlyStopping\n",
    "early_stopping = EarlyStopping(monitor='val_loss', patience=2)\n",
    "model.fit(x, y, validation_split=0.2, callbacks=[early_stopping])\n",
    "\n",
    "#--- History\n",
    "hist = model.fit(x, y, validation_split=0.2)\n",
    "print(hist.history)\n",
    "\n",
    "\n",
    "#--- Save a Keras Model\n",
    "from keras.models import load_model\n",
    "\n",
    "model.save('my_model.h5')  # creates a HDF5 file 'my_model.h5'\n",
    "del model  # deletes the existing model\n",
    "\n",
    "# returns a compiled model\n",
    "# identical to the previous one\n",
    "model = load_model('my_model.h5')"
   ]
  },
  {
   "cell_type": "code",
   "execution_count": 117,
   "metadata": {
    "ExecuteTime": {
     "end_time": "2019-11-26T21:58:21.235481Z",
     "start_time": "2019-11-26T21:58:18.723741Z"
    }
   },
   "outputs": [],
   "source": [
    "salsa_model.save(\"../models/threelayerLSTM.h5\")"
   ]
  },
  {
   "cell_type": "code",
   "execution_count": 84,
   "metadata": {
    "ExecuteTime": {
     "end_time": "2019-11-26T21:42:28.142243Z",
     "start_time": "2019-11-26T21:42:28.133395Z"
    }
   },
   "outputs": [],
   "source": [
    "def plotSinglePose(posePoint):\n",
    "        '''\n",
    "        Function to plot the MNIST data on a grid of NxN\n",
    "        '''\n",
    "        plt.rcParams['figure.figsize'] = [30, 15]\n",
    "        #ims = []\n",
    "        #fig = plt.figure()\n",
    "        \n",
    "        imgArray = np.ones((640, 360))\n",
    "        plt.imshow(imgArray, cmap=plt.cm.Greys, interpolation = 'nearest')\n",
    "        #ims.append([im])\n",
    "        plt.axis('off')\n",
    "        \n",
    "        for pair in POSE_PAIRS:\n",
    "            # Checking just xcoord for valid point is enough\n",
    "            valid_pt1 = (posePoint[pair[0]][0] != -1)\n",
    "            valid_pt2 = (posePoint[pair[1]][0] != -1)\n",
    "            if valid_pt1 and valid_pt2:\n",
    "                xs = [posePoint[pair[0]][0], posePoint[pair[1]][0]]\n",
    "                ys = [posePoint[pair[0]][1], posePoint[pair[1]][1]]\n",
    "                plt.plot(xs, ys,'ko-', linewidth=2)\n",
    "                \n",
    "        #ani = animation.ArtistAnimation(fig, ims, interval=50, blit=True,\n",
    "        #                        repeat_delay=1000)\n",
    "        plt.show()\n",
    "def flat_to_pose(flatPose):\n",
    "    pose_dim = flatPose.reshape((-1, 2))\n",
    "    \n",
    "    return {i:pose_dim[i].tolist() for i in range(0, len(pose_dim))}\n",
    "    "
   ]
  },
  {
   "cell_type": "code",
   "execution_count": 143,
   "metadata": {
    "ExecuteTime": {
     "end_time": "2019-11-27T01:30:54.630538Z",
     "start_time": "2019-11-27T01:30:40.700004Z"
    }
   },
   "outputs": [
    {
     "name": "stdout",
     "output_type": "stream",
     "text": [
      "[[[0 0 0 ... 0 0 0]\n",
      "  [0 0 0 ... 0 0 0]\n",
      "  [0 0 0 ... 0 0 0]\n",
      "  ...\n",
      "  [0 0 0 ... 0 0 0]\n",
      "  [0 0 0 ... 0 0 0]\n",
      "  [0 0 0 ... 0 0 0]]]\n",
      "[[286.50122  103.02738  306.72592  127.025986 294.20822  126.04297\n",
      "  272.7802   135.54527  247.96451  127.32689  314.29102  125.89135\n",
      "  305.73434  135.8601   278.83392  129.61736  300.1322   175.49721\n",
      "  296.62933  211.67043  295.2863   246.5547   313.4236   175.56868\n",
      "  312.7077   212.14215  310.18625  247.95113  259.6653    89.41908\n",
      "  260.3943    89.88046  213.09673   74.09691  205.06467   73.79602 ]]\n"
     ]
    },
    {
     "data": {
      "image/png": "[encoded data removed]",
      "text/plain": [
       "<Figure size 2160x1080 with 1 Axes>"
      ]
     },
     "metadata": {
      "needs_background": "light"
     },
     "output_type": "display_data"
    }
   ],
   "source": [
    "from keras.models import load_model\n",
    "model_to_test = load_model(\"../models/twolayerLSTM.h5\")\n",
    "\n",
    "p = np.random.randint(0, 600)\n",
    "\n",
    "x = np.array([pose_data_by_dancer[40][p: p+seqLen]])\n",
    "x = x*0\n",
    "y = model_to_test.predict(x)\n",
    "print(x)\n",
    "print(y)\n",
    "plt.rcParams['figure.figsize'] = [30, 15]\n",
    "plotSinglePose(flat_to_pose(y))"
   ]
  },
  {
   "cell_type": "code",
   "execution_count": 135,
   "metadata": {
    "ExecuteTime": {
     "end_time": "2019-11-26T22:18:27.864134Z",
     "start_time": "2019-11-26T22:18:27.857375Z"
    }
   },
   "outputs": [
    {
     "name": "stdout",
     "output_type": "stream",
     "text": [
      "('relu', 2, 100)\n",
      "('relu', 2, 150)\n",
      "('relu', 2, 200)\n",
      "('relu', 3, 100)\n",
      "('relu', 3, 150)\n",
      "('relu', 3, 200)\n",
      "('tanh', 2, 100)\n",
      "('tanh', 2, 150)\n",
      "('tanh', 2, 200)\n",
      "('tanh', 3, 100)\n",
      "('tanh', 3, 150)\n",
      "('tanh', 3, 200)\n"
     ]
    }
   ],
   "source": [
    "from itertools import product\n",
    "\n",
    "act_funcs = ['relu', 'tanh']\n",
    "layers = [2, 3]\n",
    "epochs = range(100, 250, 50)\n",
    "\n",
    "for item in product(act_funcs, layers, epochs):\n",
    "    print(item)\n",
    "\n",
    "    \n",
    "def salsa_model_template(item):\n",
    "    \"\"\"\n",
    "    item is tuple (activation, no of layers, epochs)\n",
    "    \"\"\"\n",
    "    \n",
    "    \n",
    "    \n",
    "    "
   ]
  }
 ],
 "metadata": {
  "kernelspec": {
   "display_name": "Python [conda env:metis] *",
   "language": "python",
   "name": "conda-env-metis-py"
  },
  "language_info": {
   "codemirror_mode": {
    "name": "ipython",
    "version": 3
   },
   "file_extension": ".py",
   "mimetype": "text/x-python",
   "name": "python",
   "nbconvert_exporter": "python",
   "pygments_lexer": "ipython3",
   "version": "3.7.3"
  },
  "toc": {
   "base_numbering": 1,
   "nav_menu": {},
   "number_sections": true,
   "sideBar": true,
   "skip_h1_title": false,
   "title_cell": "Table of Contents",
   "title_sidebar": "Contents",
   "toc_cell": false,
   "toc_position": {},
   "toc_section_display": true,
   "toc_window_display": false
  }
 },
 "nbformat": 4,
 "nbformat_minor": 2
}
