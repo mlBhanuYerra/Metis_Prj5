{
 "cells": [
  {
   "cell_type": "code",
   "execution_count": 80,
   "metadata": {
    "ExecuteTime": {
     "end_time": "2019-11-28T03:56:23.750128Z",
     "start_time": "2019-11-28T03:56:22.454839Z"
    }
   },
   "outputs": [],
   "source": [
    "import cv2\n",
    "\n",
    "import numpy as np\n",
    "import pandas as pd\n",
    "from joblib import load, dump\n",
    "\n",
    "import matplotlib.pyplot as plt\n",
    "import matplotlib.animation as animation\n",
    "%matplotlib inline\n",
    "\n",
    "# keras\n",
    "np.random.seed(13)\n",
    "from keras.models import Sequential\n",
    "from keras.layers import (Dense, Embedding, Reshape, Activation, \n",
    "                          SimpleRNN, LSTM, Convolution1D, \n",
    "                          MaxPooling1D, Dropout, Bidirectional)\n",
    "from keras.utils import np_utils\n",
    "from keras.utils.data_utils import get_file\n",
    "from keras.preprocessing import sequence\n",
    "from keras.optimizers import SGD, RMSprop\n",
    "from keras.callbacks import TensorBoard\n",
    "from keras import optimizers\n",
    "\n",
    "nPoints = 18\n",
    "\n",
    "KEYPOINTS = ['Nose', 'Neck', 'R-Sho', 'R-Elb', 'R-Wr', 'L-Sho', \n",
    "                    'L-Elb', 'L-Wr', 'R-Hip', 'R-Knee', 'R-Ank', 'L-Hip', \n",
    "                    'L-Knee', 'L-Ank', 'R-Eye', 'L-Eye', 'R-Ear', 'L-Ear']\n",
    "\n",
    "POSE_PAIRS = [[1,2], [1,5], [2,3], [3,4], [5,6], [6,7],\n",
    "              [1,8], [8,9], [9,10], [1,11], [11,12], [12,13],\n",
    "              [1,0], [0,14], [14,16], [0,15], [15,17],\n",
    "              [2,17], [5,16]]\n",
    "\n",
    "POSE_PAIRS_MOD = [[1,2], [1,5], [2,3], [3,4], [5,6], [6,7],\n",
    "              [1,8], [8,9], [9,10], [1,11], [11,12], [12,13],\n",
    "              [1,0], [8,11]]\n",
    "\n",
    "def plotSinglePose(posePoint):\n",
    "        '''\n",
    "        Function to plot the MNIST data on a grid of NxN\n",
    "        '''\n",
    "        plt.rcParams['figure.figsize'] = [30, 15]\n",
    "        #ims = []\n",
    "        #fig = plt.figure()\n",
    "        \n",
    "        imgArray = np.ones((360, 640))\n",
    "        plt.imshow(imgArray, cmap=plt.cm.Greys, interpolation = 'nearest')\n",
    "        #ims.append([im])\n",
    "        plt.axis('off')\n",
    "        \n",
    "        for pair in POSE_PAIRS:\n",
    "            # Checking just xcoord for valid point is enough\n",
    "            valid_pt1 = (posePoint[pair[0]][0] != -1)\n",
    "            valid_pt2 = (posePoint[pair[1]][0] != -1)\n",
    "            if valid_pt1 and valid_pt2:\n",
    "                xs = [posePoint[pair[0]][0], posePoint[pair[1]][0]]\n",
    "                ys = [posePoint[pair[0]][1], posePoint[pair[1]][1]]\n",
    "                plt.plot(xs, ys,'ko-', linewidth=2)\n",
    "                \n",
    "        #ani = animation.ArtistAnimation(fig, ims, interval=50, blit=True,\n",
    "        #                        repeat_delay=1000)\n",
    "        plt.show()\n",
    "\n",
    "def plotSinglePose_mod(posePoint):\n",
    "        '''\n",
    "        Function to plot the MNIST data on a grid of NxN\n",
    "        '''\n",
    "        plt.rcParams['figure.figsize'] = [30, 15]\n",
    "        #ims = []\n",
    "        #fig = plt.figure()\n",
    "        \n",
    "        imgArray = np.ones((360, 640))\n",
    "        plt.imshow(imgArray, cmap=plt.cm.Greys, interpolation = 'nearest')\n",
    "        #ims.append([im])\n",
    "        plt.axis('off')\n",
    "        with plt.style.context('Solarize_Light2'):\n",
    "            for pair in POSE_PAIRS_MOD:\n",
    "                # Checking just xcoord for valid point is enough\n",
    "                valid_pt1 = (posePoint[pair[0]][0] != -1)\n",
    "                valid_pt2 = (posePoint[pair[1]][0] != -1)\n",
    "                if valid_pt1 and valid_pt2:\n",
    "                    xs = [posePoint[pair[0]][0], posePoint[pair[1]][0]]\n",
    "                    ys = [posePoint[pair[0]][1], posePoint[pair[1]][1]]\n",
    "                    plt.plot(xs, ys,'ko-', linewidth=2)\n",
    "                \n",
    "        #ani = animation.ArtistAnimation(fig, ims, interval=50, blit=True,\n",
    "        #                        repeat_delay=1000)\n",
    "        plt.show()        \n",
    "        \n",
    "def flat_to_pose(flatPose):\n",
    "    pose_dim = flatPose.reshape((-1, 2))\n",
    "    \n",
    "    return {i:pose_dim[i].tolist() for i in range(0, len(pose_dim))}\n",
    "    \n",
    "\n",
    "pose_data_file = \"../data/frames/forRNN_pose_by_daner.out\"\n",
    "pose_data_by_dancer = load(pose_data_file)"
   ]
  },
  {
   "cell_type": "code",
   "execution_count": 95,
   "metadata": {
    "ExecuteTime": {
     "end_time": "2019-11-28T04:10:43.028154Z",
     "start_time": "2019-11-28T04:10:42.356138Z"
    }
   },
   "outputs": [],
   "source": [
    "dancers = len(pose_data_by_dancer)\n",
    "X = []\n",
    "y = []\n",
    "seqLen = 40\n",
    "slide = 1\n",
    "\n",
    "for dancer in range(dancers):\n",
    "    pose_coords = pose_data_by_dancer[dancer]\n",
    "    poses = len(pose_coords)\n",
    "    if poses<60:\n",
    "        continue #go to next dancer\n",
    "    \n",
    "    for i in range(0, poses - seqLen, slide):\n",
    "        X.append(pose_coords[i:i+seqLen])\n",
    "        y.append(pose_coords[i+seqLen])\n",
    "\n",
    "X = np.array(X)\n",
    "y = np.array(y)"
   ]
  },
  {
   "cell_type": "code",
   "execution_count": 96,
   "metadata": {
    "ExecuteTime": {
     "end_time": "2019-11-28T04:10:45.188908Z",
     "start_time": "2019-11-28T04:10:45.183596Z"
    }
   },
   "outputs": [
    {
     "name": "stdout",
     "output_type": "stream",
     "text": [
      "(32864, 40, 36)\n",
      "(32864, 36)\n",
      "(32864, 40, 36)\n",
      "(32864, 36)\n"
     ]
    }
   ],
   "source": [
    "print(X.shape)\n",
    "print(y.shape)\n",
    "\n",
    "#X = np.delete(X, [0, 1, 30, 31, 32, 33, 34, 35], axis=2)\n",
    "#y = np.delete(y, [0, 1, 30, 31, 32, 33, 34, 35], axis=1)\n",
    "print(X.shape)\n",
    "print(y.shape)"
   ]
  },
  {
   "cell_type": "code",
   "execution_count": 97,
   "metadata": {
    "ExecuteTime": {
     "end_time": "2019-11-28T05:18:42.723813Z",
     "start_time": "2019-11-28T04:10:48.518109Z"
    }
   },
   "outputs": [
    {
     "name": "stdout",
     "output_type": "stream",
     "text": [
      "Build model...\n",
      "Epoch 1/40\n",
      "32864/32864 [==============================] - 100s 3ms/step - loss: 5802687.2951 - mean_squared_error: 5802687.2951\n",
      "Epoch 2/40\n",
      "32864/32864 [==============================] - 101s 3ms/step - loss: 69380.0536 - mean_squared_error: 69380.0536\n",
      "Epoch 3/40\n",
      "32864/32864 [==============================] - 100s 3ms/step - loss: 60879.2280 - mean_squared_error: 60879.2280\n",
      "Epoch 4/40\n",
      "32864/32864 [==============================] - 100s 3ms/step - loss: 527826042765.8378 - mean_squared_error: 527826042765.8378\n",
      "Epoch 5/40\n",
      "32864/32864 [==============================] - 100s 3ms/step - loss: 51539.5352 - mean_squared_error: 51539.5352\n",
      "Epoch 6/40\n",
      "32864/32864 [==============================] - 100s 3ms/step - loss: 122586595.8294 - mean_squared_error: 122586595.8294\n",
      "Epoch 7/40\n",
      "32864/32864 [==============================] - 101s 3ms/step - loss: 18734950.4157 - mean_squared_error: 18734950.4157\n",
      "Epoch 8/40\n",
      "32864/32864 [==============================] - 101s 3ms/step - loss: 51868.6301 - mean_squared_error: 51868.6301\n",
      "Epoch 9/40\n",
      "32864/32864 [==============================] - 101s 3ms/step - loss: 50987.6937 - mean_squared_error: 50987.6937\n",
      "Epoch 10/40\n",
      "32864/32864 [==============================] - 101s 3ms/step - loss: 50459.5107 - mean_squared_error: 50459.5107\n",
      "Epoch 11/40\n",
      "32864/32864 [==============================] - 101s 3ms/step - loss: 50005.7788 - mean_squared_error: 50005.7788\n",
      "Epoch 12/40\n",
      "32864/32864 [==============================] - 101s 3ms/step - loss: 49361.6364 - mean_squared_error: 49361.6364\n",
      "Epoch 13/40\n",
      "32864/32864 [==============================] - 102s 3ms/step - loss: 48433.9805 - mean_squared_error: 48433.9805\n",
      "Epoch 14/40\n",
      "32864/32864 [==============================] - 104s 3ms/step - loss: 47150.5167 - mean_squared_error: 47150.5167\n",
      "Epoch 15/40\n",
      "32864/32864 [==============================] - 103s 3ms/step - loss: 45464.2146 - mean_squared_error: 45464.2146\n",
      "Epoch 16/40\n",
      "32864/32864 [==============================] - 102s 3ms/step - loss: 32793595985.9740 - mean_squared_error: 32793595985.9740\n",
      "Epoch 17/40\n",
      "32864/32864 [==============================] - 101s 3ms/step - loss: 51148.3227 - mean_squared_error: 51148.3227\n",
      "Epoch 18/40\n",
      "32864/32864 [==============================] - 103s 3ms/step - loss: 43557.5299 - mean_squared_error: 43557.5299\n",
      "Epoch 19/40\n",
      "32864/32864 [==============================] - 101s 3ms/step - loss: 43453.3676 - mean_squared_error: 43453.3676\n",
      "Epoch 20/40\n",
      "32864/32864 [==============================] - 102s 3ms/step - loss: 43888.7109 - mean_squared_error: 43888.7109\n",
      "Epoch 21/40\n",
      "32864/32864 [==============================] - 101s 3ms/step - loss: 43543.1960 - mean_squared_error: 43543.1960\n",
      "Epoch 22/40\n",
      "32864/32864 [==============================] - 100s 3ms/step - loss: 42324.4554 - mean_squared_error: 42324.4554\n",
      "Epoch 23/40\n",
      "32864/32864 [==============================] - 100s 3ms/step - loss: 506211260256.4429 - mean_squared_error: 506211260256.4429\n",
      "Epoch 24/40\n",
      "32864/32864 [==============================] - 101s 3ms/step - loss: 127759.8686 - mean_squared_error: 127759.8686\n",
      "Epoch 25/40\n",
      "32864/32864 [==============================] - 101s 3ms/step - loss: 8071858.4611 - mean_squared_error: 8071858.4611\n",
      "Epoch 26/40\n",
      "32864/32864 [==============================] - 101s 3ms/step - loss: 41153.2524 - mean_squared_error: 41153.2524\n",
      "Epoch 27/40\n",
      "32864/32864 [==============================] - 101s 3ms/step - loss: 132931.5340 - mean_squared_error: 132931.5340\n",
      "Epoch 28/40\n",
      "32864/32864 [==============================] - 103s 3ms/step - loss: 40827.2019 - mean_squared_error: 40827.2019\n",
      "Epoch 29/40\n",
      "32864/32864 [==============================] - 105s 3ms/step - loss: 40619.9196 - mean_squared_error: 40619.9196\n",
      "Epoch 30/40\n",
      "32864/32864 [==============================] - 102s 3ms/step - loss: 40295.0951 - mean_squared_error: 40295.0951\n",
      "Epoch 31/40\n",
      "32864/32864 [==============================] - 102s 3ms/step - loss: 39792.5609 - mean_squared_error: 39792.5609\n",
      "Epoch 32/40\n",
      "32864/32864 [==============================] - 100s 3ms/step - loss: 39066.6167 - mean_squared_error: 39066.6167\n",
      "Epoch 33/40\n",
      "32864/32864 [==============================] - 97s 3ms/step - loss: 41593.8057 - mean_squared_error: 41593.8057\n",
      "Epoch 34/40\n",
      "32864/32864 [==============================] - 96s 3ms/step - loss: 36752.9575 - mean_squared_error: 36752.9575\n",
      "Epoch 35/40\n",
      "32864/32864 [==============================] - 105s 3ms/step - loss: 35063.7467 - mean_squared_error: 35063.7467\n",
      "Epoch 36/40\n",
      "32864/32864 [==============================] - 115s 4ms/step - loss: 32702.2017 - mean_squared_error: 32702.2017\n",
      "Epoch 37/40\n",
      "32864/32864 [==============================] - 109s 3ms/step - loss: 605196.4266 - mean_squared_error: 605196.4266\n",
      "Epoch 38/40\n",
      "32864/32864 [==============================] - 99s 3ms/step - loss: 31097.4306 - mean_squared_error: 31097.4306\n",
      "Epoch 39/40\n",
      "32864/32864 [==============================] - 103s 3ms/step - loss: 26691.0008 - mean_squared_error: 26691.0008\n",
      "Epoch 40/40\n",
      "32864/32864 [==============================] - 106s 3ms/step - loss: 24507.1798 - mean_squared_error: 24507.1798\n"
     ]
    }
   ],
   "source": [
    "from keras.callbacks import EarlyStopping\n",
    "early_stopping = EarlyStopping(monitor='loss', min_delta = 0.001, patience=6, verbose=1)\n",
    "tb = TensorBoard(histogram_freq=1, write_grads=True)\n",
    "\n",
    "kpoints = 36\n",
    "\n",
    "# Model\n",
    "print('Build model...')\n",
    "salsa_model = Sequential()\n",
    "salsa_model.add(LSTM(kpoints, activation='relu', input_shape=(seqLen, kpoints), return_sequences=True, kernel_initializer='random_uniform',\n",
    "                bias_initializer='zeros', dropout = 0.2, recurrent_dropout = 0.2))\n",
    "salsa_model.add(LSTM(kpoints, activation='relu', input_shape=(seqLen, kpoints), return_sequences=True, kernel_initializer='random_uniform',\n",
    "                bias_initializer='zeros', dropout = 0.2, recurrent_dropout = 0.2))\n",
    "salsa_model.add(LSTM(kpoints, activation='relu', input_shape=(seqLen, kpoints), return_sequences=False, kernel_initializer='random_uniform',\n",
    "                bias_initializer='zeros', dropout = 0.2, recurrent_dropout = 0.2))\n",
    "salsa_model.add(Dense(kpoints))\n",
    "adm = optimizers.Adam(lr=0.001, decay=)\n",
    "salsa_model.compile(optimizer=adm, loss='mse', metrics=['mse'])\n",
    "hist = salsa_model.fit(X, y, epochs=40, verbose=True, callbacks=[early_stopping])\n",
    "\n",
    "#optimizer = RMSprop(lr=0.0"
   ]
  },
  {
   "cell_type": "code",
   "execution_count": 283,
   "metadata": {
    "ExecuteTime": {
     "end_time": "2019-11-27T04:26:32.687310Z",
     "start_time": "2019-11-27T04:26:32.668990Z"
    }
   },
   "outputs": [
    {
     "ename": "NameError",
     "evalue": "name 'model' is not defined",
     "output_type": "error",
     "traceback": [
      "\u001b[0;31m---------------------------------------------------------------------------\u001b[0m",
      "\u001b[0;31mNameError\u001b[0m                                 Traceback (most recent call last)",
      "\u001b[0;32m<ipython-input-283-218c71a10226>\u001b[0m in \u001b[0;36m<module>\u001b[0;34m\u001b[0m\n\u001b[1;32m      2\u001b[0m \u001b[0;32mfrom\u001b[0m \u001b[0mkeras\u001b[0m\u001b[0;34m.\u001b[0m\u001b[0mcallbacks\u001b[0m \u001b[0;32mimport\u001b[0m \u001b[0mEarlyStopping\u001b[0m\u001b[0;34m\u001b[0m\u001b[0;34m\u001b[0m\u001b[0m\n\u001b[1;32m      3\u001b[0m \u001b[0mearly_stopping\u001b[0m \u001b[0;34m=\u001b[0m \u001b[0mEarlyStopping\u001b[0m\u001b[0;34m(\u001b[0m\u001b[0mmonitor\u001b[0m\u001b[0;34m=\u001b[0m\u001b[0;34m'val_loss'\u001b[0m\u001b[0;34m,\u001b[0m \u001b[0mpatience\u001b[0m\u001b[0;34m=\u001b[0m\u001b[0;36m2\u001b[0m\u001b[0;34m)\u001b[0m\u001b[0;34m\u001b[0m\u001b[0;34m\u001b[0m\u001b[0m\n\u001b[0;32m----> 4\u001b[0;31m \u001b[0mmodel\u001b[0m\u001b[0;34m.\u001b[0m\u001b[0mfit\u001b[0m\u001b[0;34m(\u001b[0m\u001b[0mx\u001b[0m\u001b[0;34m,\u001b[0m \u001b[0my\u001b[0m\u001b[0;34m,\u001b[0m \u001b[0mvalidation_split\u001b[0m\u001b[0;34m=\u001b[0m\u001b[0;36m0.2\u001b[0m\u001b[0;34m,\u001b[0m \u001b[0mcallbacks\u001b[0m\u001b[0;34m=\u001b[0m\u001b[0;34m[\u001b[0m\u001b[0mearly_stopping\u001b[0m\u001b[0;34m]\u001b[0m\u001b[0;34m)\u001b[0m\u001b[0;34m\u001b[0m\u001b[0;34m\u001b[0m\u001b[0m\n\u001b[0m\u001b[1;32m      5\u001b[0m \u001b[0;34m\u001b[0m\u001b[0m\n\u001b[1;32m      6\u001b[0m \u001b[0;31m#--- History\u001b[0m\u001b[0;34m\u001b[0m\u001b[0;34m\u001b[0m\u001b[0;34m\u001b[0m\u001b[0m\n",
      "\u001b[0;31mNameError\u001b[0m: name 'model' is not defined"
     ]
    }
   ],
   "source": [
    "#--- Early Stopping\n",
    "from keras.callbacks import EarlyStopping\n",
    "early_stopping = EarlyStopping(monitor='val_loss', patience=2)\n",
    "model.fit(x, y, validation_split=0.2, callbacks=[early_stopping])\n",
    "\n",
    "#--- History\n",
    "hist = model.fit(x, y, validation_split=0.2)\n",
    "print(hist.history)\n",
    "\n",
    "\n",
    "#--- Save a Keras Model\n",
    "from keras.models import load_model\n",
    "\n",
    "model.save('my_model.h5')  # creates a HDF5 file 'my_model.h5'\n",
    "del model  # deletes the existing model\n",
    "\n",
    "# returns a compiled model\n",
    "# identical to the previous one\n",
    "model = load_model('my_model.h5')"
   ]
  },
  {
   "cell_type": "code",
   "execution_count": 98,
   "metadata": {
    "ExecuteTime": {
     "end_time": "2019-11-28T05:19:59.063814Z",
     "start_time": "2019-11-28T05:19:57.272220Z"
    }
   },
   "outputs": [],
   "source": [
    "salsa_model.save(\"../models/threelayerLSTM_relu_36kp_8seql_dropoutlr_0.01lr.h5\")"
   ]
  },
  {
   "cell_type": "code",
   "execution_count": 54,
   "metadata": {
    "ExecuteTime": {
     "end_time": "2019-11-28T01:37:46.764291Z",
     "start_time": "2019-11-28T01:37:46.759674Z"
    }
   },
   "outputs": [],
   "source": [
    "def genSalsa(seedPoses, salsaModel, steps = 8):\n",
    "    seqLen = seedPoses.shape[1]\n",
    "    for i in range(steps):\n",
    "        y_pred = salsa_model.predict(seedPoses[:,-(seqLen):,:])\n",
    "        seedPoses = np.append(seedPoses, [y_pred], axis=1)\n",
    "    return seedPoses"
   ]
  },
  {
   "cell_type": "code",
   "execution_count": 106,
   "metadata": {
    "ExecuteTime": {
     "end_time": "2019-11-28T05:20:22.170512Z",
     "start_time": "2019-11-28T05:20:21.042305Z"
    }
   },
   "outputs": [
    {
     "data": {
      "image/png": "[encoded data removed]",
      "text/plain": [
       "<Figure size 2160x1080 with 1 Axes>"
      ]
     },
     "metadata": {
      "needs_background": "light"
     },
     "output_type": "display_data"
    },
    {
     "data": {
      "text/plain": [
       "\"\\nfor i in range(0, 2):    \\n    y_test = salsa_model.predict(x)\\n    print(x.shape)\\n    print(y_test.shape)\\n    np.append(x, [y_test], axis = 1)\\n    print(x.shape)\\n    x = np.delete(x, 0, axis=1)\\n    print(x.shape)\\n    #plt.rcParams['figure.figsize'] = [30, 15]\\n    #plotSinglePose(flat_to_pose(y_test))\\n    #time.sleep(60)\\n    print(y_test)\\n\""
      ]
     },
     "execution_count": 106,
     "metadata": {},
     "output_type": "execute_result"
    }
   ],
   "source": [
    "#from keras.models import load_model\n",
    "#salsa_model = load_model(\"../models/threelayerLSTM.h5\")\n",
    "import time\n",
    "\n",
    "d = 3#np.random.randint(31, 39)\n",
    "p = np.random.randint(0, len(pose_data_by_dancer[d]))\n",
    "x = np.array([pose_data_by_dancer[d][p: p+seqLen]])\n",
    "gen_salsa = genSalsa(x, salsa_model, 48)\n",
    "y_test = salsa_model.predict(x)\n",
    "#print(x)\n",
    "plt.rcParams['figure.figsize'] = [30, 15]\n",
    "plotSinglePose(flat_to_pose(y_test))\n",
    "\n",
    "#x = X = np.delete(x, [0, 1, 30, 31, 32, 33, 34, 35], axis=2)\n",
    "'''\n",
    "for i in range(0, 2):    \n",
    "    y_test = salsa_model.predict(x)\n",
    "    print(x.shape)\n",
    "    print(y_test.shape)\n",
    "    np.append(x, [y_test], axis = 1)\n",
    "    print(x.shape)\n",
    "    x = np.delete(x, 0, axis=1)\n",
    "    print(x.shape)\n",
    "    #plt.rcParams['figure.figsize'] = [30, 15]\n",
    "    #plotSinglePose(flat_to_pose(y_test))\n",
    "    #time.sleep(60)\n",
    "    print(y_test)\n",
    "'''"
   ]
  },
  {
   "cell_type": "code",
   "execution_count": 107,
   "metadata": {
    "ExecuteTime": {
     "end_time": "2019-11-28T05:20:50.619608Z",
     "start_time": "2019-11-28T05:20:42.331258Z"
    }
   },
   "outputs": [
    {
     "name": "stderr",
     "output_type": "stream",
     "text": [
      "MovieWriter imagemagick unavailable; trying to use <class 'matplotlib.animation.PillowWriter'> instead.\n"
     ]
    },
    {
     "data": {
      "image/png": "[encoded data removed]",
      "text/plain": [
       "<Figure size 1440x720 with 1 Axes>"
      ]
     },
     "metadata": {
      "needs_background": "light"
     },
     "output_type": "display_data"
    }
   ],
   "source": [
    "import matplotlib.pyplot as plt\n",
    "import matplotlib.animation as animation\n",
    "from matplotlib.animation import FuncAnimation\n",
    "from IPython.display import HTML\n",
    "%matplotlib inline\n",
    "\n",
    "x_for_anim = gen_salsa\n",
    "\n",
    "plt.rcParams['figure.figsize'] = [20, 10]                              \n",
    "fig = plt.figure()\n",
    "ax = plt.axes(xlim=(0, 640), ylim=(0, 360))\n",
    "                              \n",
    "def animate(i):\n",
    "    ax.clear()\n",
    "    pose = x_for_anim[0][i].reshape((-1, 2))\n",
    "    #print(pose)\n",
    "    imgArray = np.ones((360, 640))\n",
    "    ax.imshow(imgArray, cmap=plt.cm.Greys, interpolation = 'nearest')\n",
    "    for pair in POSE_PAIRS_MOD:\n",
    "        # Checking just xcoord for valid point is enough\n",
    "        valid_pt1 = (pose[pair[0]][0] != -1)\n",
    "        valid_pt2 = (pose[pair[1]][0] != -1)\n",
    "        if valid_pt1 and valid_pt2:\n",
    "            xs = [pose[pair[0]][0], pose[pair[1]][0]]\n",
    "            ys = [pose[pair[0]][1], pose[pair[1]][1]]\n",
    "            ax.plot(xs, ys,'ko-', linewidth=2)                         \n",
    "\n",
    "anim = FuncAnimation(fig, animate, frames=56, interval=125)\n",
    "anim\n",
    "anim.save('temp4a.gif', writer='imagemagick')"
   ]
  },
  {
   "cell_type": "code",
   "execution_count": 113,
   "metadata": {
    "ExecuteTime": {
     "end_time": "2019-11-28T05:30:17.059591Z",
     "start_time": "2019-11-28T05:30:17.054163Z"
    }
   },
   "outputs": [
    {
     "data": {
      "text/plain": [
       "[<tf.Variable 'lstm_13/kernel:0' shape=(36, 144) dtype=float32_ref>,\n",
       " <tf.Variable 'lstm_13/recurrent_kernel:0' shape=(36, 144) dtype=float32_ref>,\n",
       " <tf.Variable 'lstm_13/bias:0' shape=(144,) dtype=float32_ref>,\n",
       " <tf.Variable 'lstm_14/kernel:0' shape=(36, 144) dtype=float32_ref>,\n",
       " <tf.Variable 'lstm_14/recurrent_kernel:0' shape=(36, 144) dtype=float32_ref>,\n",
       " <tf.Variable 'lstm_14/bias:0' shape=(144,) dtype=float32_ref>,\n",
       " <tf.Variable 'lstm_15/kernel:0' shape=(36, 144) dtype=float32_ref>,\n",
       " <tf.Variable 'lstm_15/recurrent_kernel:0' shape=(36, 144) dtype=float32_ref>,\n",
       " <tf.Variable 'lstm_15/bias:0' shape=(144,) dtype=float32_ref>,\n",
       " <tf.Variable 'dense_5/kernel:0' shape=(36, 36) dtype=float32_ref>,\n",
       " <tf.Variable 'dense_5/bias:0' shape=(36,) dtype=float32_ref>]"
      ]
     },
     "execution_count": 113,
     "metadata": {},
     "output_type": "execute_result"
    }
   ],
   "source": [
    "salsa_model.weights\n",
    "#w= salsa_model.get_weights()"
   ]
  },
  {
   "cell_type": "code",
   "execution_count": 922,
   "metadata": {
    "ExecuteTime": {
     "end_time": "2019-11-27T15:21:35.258605Z",
     "start_time": "2019-11-27T15:21:35.254500Z"
    }
   },
   "outputs": [
    {
     "name": "stdout",
     "output_type": "stream",
     "text": [
      "(1, 16, 28)\n"
     ]
    },
    {
     "name": "stderr",
     "output_type": "stream",
     "text": [
      "//anaconda3/envs/metis/lib/python3.7/site-packages/ipykernel_launcher.py:1: DeprecationWarning: in the future out of bounds indices will raise an error instead of being ignored by `numpy.delete`.\n",
      "  \"\"\"Entry point for launching an IPython kernel.\n"
     ]
    }
   ],
   "source": [
    "x = np.delete(x, [0, 1, 32, 33, 34, 35], axis=2)\n",
    "print(x.shape)"
   ]
  },
  {
   "cell_type": "code",
   "execution_count": 873,
   "metadata": {
    "ExecuteTime": {
     "end_time": "2019-11-27T14:52:55.367706Z",
     "start_time": "2019-11-27T14:52:55.340129Z"
    }
   },
   "outputs": [
    {
     "name": "stdout",
     "output_type": "stream",
     "text": [
      "(1, 8, 36)\n",
      "[[[1. 1. 1. 1. 1. 1. 1. 1. 1. 1. 1. 1. 1. 1. 1. 1. 1. 1. 1. 1. 1. 1. 1.\n",
      "   1. 1. 1. 1. 1. 1. 1. 1. 1. 1. 1. 1. 1.]\n",
      "  [1. 1. 1. 1. 1. 1. 1. 1. 1. 1. 1. 1. 1. 1. 1. 1. 1. 1. 1. 1. 1. 1. 1.\n",
      "   1. 1. 1. 1. 1. 1. 1. 1. 1. 1. 1. 1. 1.]\n",
      "  [1. 1. 1. 1. 1. 1. 1. 1. 1. 1. 1. 1. 1. 1. 1. 1. 1. 1. 1. 1. 1. 1. 1.\n",
      "   1. 1. 1. 1. 1. 1. 1. 1. 1. 1. 1. 1. 1.]\n",
      "  [1. 1. 1. 1. 1. 1. 1. 1. 1. 1. 1. 1. 1. 1. 1. 1. 1. 1. 1. 1. 1. 1. 1.\n",
      "   1. 1. 1. 1. 1. 1. 1. 1. 1. 1. 1. 1. 1.]\n",
      "  [1. 1. 1. 1. 1. 1. 1. 1. 1. 1. 1. 1. 1. 1. 1. 1. 1. 1. 1. 1. 1. 1. 1.\n",
      "   1. 1. 1. 1. 1. 1. 1. 1. 1. 1. 1. 1. 1.]\n",
      "  [1. 1. 1. 1. 1. 1. 1. 1. 1. 1. 1. 1. 1. 1. 1. 1. 1. 1. 1. 1. 1. 1. 1.\n",
      "   1. 1. 1. 1. 1. 1. 1. 1. 1. 1. 1. 1. 1.]\n",
      "  [1. 1. 1. 1. 1. 1. 1. 1. 1. 1. 1. 1. 1. 1. 1. 1. 1. 1. 1. 1. 1. 1. 1.\n",
      "   1. 1. 1. 1. 1. 1. 1. 1. 1. 1. 1. 1. 1.]\n",
      "  [1. 1. 1. 1. 1. 1. 1. 1. 1. 1. 1. 1. 1. 1. 1. 1. 1. 1. 1. 1. 1. 1. 1.\n",
      "   1. 1. 1. 1. 1. 1. 1. 1. 1. 1. 1. 1. 1.]\n",
      "  [2. 2. 2. 2. 2. 2. 2. 2. 2. 2. 2. 2. 2. 2. 2. 2. 2. 2. 2. 2. 2. 2. 2.\n",
      "   2. 2. 2. 2. 2. 2. 2. 2. 2. 2. 2. 2. 2.]]]\n"
     ]
    }
   ],
   "source": [
    "a = np.ones((1,8, 36))\n",
    "b = np.ones((1,36))*2\n",
    "print(a.shape)\n",
    "a = np.append(a, [b], axis=1)\n",
    "np.delete(a, 0, axis=1)\n",
    "print(a)"
   ]
  },
  {
   "cell_type": "code",
   "execution_count": 148,
   "metadata": {
    "ExecuteTime": {
     "end_time": "2019-11-27T03:41:21.844924Z",
     "start_time": "2019-11-27T03:23:56.273502Z"
    }
   },
   "outputs": [
    {
     "name": "stdout",
     "output_type": "stream",
     "text": [
      "Epoch 1/30\n",
      "16189/16189 [==============================] - 34s 2ms/step - loss: 6713.5725 - mean_absolute_error: 53.8623 - acc: 0.0356\n",
      "Epoch 2/30\n",
      "16189/16189 [==============================] - 34s 2ms/step - loss: 6713.6357 - mean_absolute_error: 53.8665 - acc: 0.0356\n",
      "Epoch 3/30\n",
      "16189/16189 [==============================] - 34s 2ms/step - loss: 6713.5952 - mean_absolute_error: 53.8773 - acc: 0.0356\n",
      "Epoch 4/30\n",
      "16189/16189 [==============================] - 34s 2ms/step - loss: 6713.5500 - mean_absolute_error: 53.8890 - acc: 0.0356\n",
      "Epoch 5/30\n",
      "16189/16189 [==============================] - 34s 2ms/step - loss: 6713.6418 - mean_absolute_error: 53.8604 - acc: 0.0356\n",
      "Epoch 6/30\n",
      "16189/16189 [==============================] - 33s 2ms/step - loss: 6713.6420 - mean_absolute_error: 53.8643 - acc: 0.0356\n",
      "Epoch 7/30\n",
      "16189/16189 [==============================] - 34s 2ms/step - loss: 6713.5634 - mean_absolute_error: 53.8492 - acc: 0.0356\n",
      "Epoch 8/30\n",
      "16189/16189 [==============================] - 34s 2ms/step - loss: 6713.6299 - mean_absolute_error: 53.8631 - acc: 0.0356\n",
      "Epoch 9/30\n",
      "16189/16189 [==============================] - 34s 2ms/step - loss: 6713.5631 - mean_absolute_error: 53.8918 - acc: 0.0356\n",
      "Epoch 10/30\n",
      "16189/16189 [==============================] - 35s 2ms/step - loss: 6713.6210 - mean_absolute_error: 53.8766 - acc: 0.0356\n",
      "Epoch 11/30\n",
      "16189/16189 [==============================] - 34s 2ms/step - loss: 6713.6615 - mean_absolute_error: 53.8510 - acc: 0.0356\n",
      "Epoch 12/30\n",
      "16189/16189 [==============================] - 34s 2ms/step - loss: 6713.5516 - mean_absolute_error: 53.8656 - acc: 0.0356\n",
      "Epoch 13/30\n",
      "16189/16189 [==============================] - 34s 2ms/step - loss: 6713.6231 - mean_absolute_error: 53.8788 - acc: 0.0356\n",
      "Epoch 14/30\n",
      "16189/16189 [==============================] - 34s 2ms/step - loss: 6713.5276 - mean_absolute_error: 53.8685 - acc: 0.0356\n",
      "Epoch 15/30\n",
      "16189/16189 [==============================] - 34s 2ms/step - loss: 6713.6082 - mean_absolute_error: 53.8743 - acc: 0.0356\n",
      "Epoch 16/30\n",
      "16189/16189 [==============================] - 35s 2ms/step - loss: 6713.5650 - mean_absolute_error: 53.8324 - acc: 0.0356\n",
      "Epoch 17/30\n",
      "16189/16189 [==============================] - 35s 2ms/step - loss: 6713.6316 - mean_absolute_error: 53.8727 - acc: 0.0356\n",
      "Epoch 18/30\n",
      "16189/16189 [==============================] - 35s 2ms/step - loss: 6713.6514 - mean_absolute_error: 53.8712 - acc: 0.0356\n",
      "Epoch 19/30\n",
      "16189/16189 [==============================] - 35s 2ms/step - loss: 6713.6251 - mean_absolute_error: 53.8796 - acc: 0.0356\n",
      "Epoch 20/30\n",
      "16189/16189 [==============================] - 35s 2ms/step - loss: 6713.6086 - mean_absolute_error: 53.8690 - acc: 0.0356\n",
      "Epoch 21/30\n",
      "16189/16189 [==============================] - 35s 2ms/step - loss: 6713.6316 - mean_absolute_error: 53.8565 - acc: 0.0356\n",
      "Epoch 22/30\n",
      "16189/16189 [==============================] - 35s 2ms/step - loss: 6713.5950 - mean_absolute_error: 53.8763 - acc: 0.0356\n",
      "Epoch 23/30\n",
      "16189/16189 [==============================] - 35s 2ms/step - loss: 6713.5668 - mean_absolute_error: 53.8825 - acc: 0.0356\n",
      "Epoch 24/30\n",
      "16189/16189 [==============================] - 35s 2ms/step - loss: 6713.6508 - mean_absolute_error: 53.8630 - acc: 0.0356\n",
      "Epoch 25/30\n",
      "16189/16189 [==============================] - 35s 2ms/step - loss: 6713.6000 - mean_absolute_error: 53.8827 - acc: 0.0356\n",
      "Epoch 26/30\n",
      "16189/16189 [==============================] - 35s 2ms/step - loss: 6713.5968 - mean_absolute_error: 53.8561 - acc: 0.0356\n",
      "Epoch 27/30\n",
      "16189/16189 [==============================] - 35s 2ms/step - loss: 6713.6500 - mean_absolute_error: 53.8605 - acc: 0.0356\n",
      "Epoch 28/30\n",
      "16189/16189 [==============================] - 35s 2ms/step - loss: 6713.6246 - mean_absolute_error: 53.8664 - acc: 0.0356\n",
      "Epoch 29/30\n",
      "16189/16189 [==============================] - 35s 2ms/step - loss: 6713.6163 - mean_absolute_error: 53.8504 - acc: 0.0356\n",
      "Epoch 30/30\n",
      "16189/16189 [==============================] - 35s 2ms/step - loss: 6713.5618 - mean_absolute_error: 53.8811 - acc: 0.0356\n"
     ]
    }
   ],
   "source": [
    "salsa_retrain = load_model(\"../models/twolayerLSTM.h5\")\n",
    "hist = salsa_retrain.fit(X, y, epochs=30, verbose=True)#, callbacks=[early_stopping])"
   ]
  },
  {
   "cell_type": "code",
   "execution_count": 149,
   "metadata": {
    "ExecuteTime": {
     "end_time": "2019-11-27T03:54:10.267510Z",
     "start_time": "2019-11-27T03:54:05.090605Z"
    }
   },
   "outputs": [],
   "source": [
    "salsa_retrain.save(\"../models/twolayerLSTM_90Iterms.h5\")"
   ]
  },
  {
   "cell_type": "code",
   "execution_count": 191,
   "metadata": {
    "ExecuteTime": {
     "end_time": "2019-11-27T04:14:15.316673Z",
     "start_time": "2019-11-27T04:14:13.078775Z"
    }
   },
   "outputs": [
    {
     "name": "stdout",
     "output_type": "stream",
     "text": [
      "[[[300 136 299 ... 129 314 136]\n",
      "  [276 129 284 ...  -1 293 129]\n",
      "  [261 113 267 ...  -1 277 120]\n",
      "  ...\n",
      "  [308 113 308 ... 113 316 113]\n",
      "  [306 114 307 ... 113 315 113]\n",
      "  [306 121 300 ... 120 315 120]]]\n",
      "[[293.59274 105.33664 314.54388 129.89502 301.70557 128.8758  279.8331\n",
      "  139.32631 254.00594 130.66652 322.27377 128.92693 313.08234 138.97702\n",
      "  285.19125 132.39873 307.73447 179.62575 304.30933 217.0111  302.84113\n",
      "  252.84648 321.38504 179.76369 320.65366 217.1679  318.15872 254.05928\n",
      "  265.9411   91.47726 266.76755  91.9408  218.38156  75.93291 210.40962\n",
      "   75.38097]]\n"
     ]
    },
    {
     "data": {
      "image/png": "[encoded data removed]",
      "text/plain": [
       "<Figure size 2160x1080 with 1 Axes>"
      ]
     },
     "metadata": {
      "needs_background": "light"
     },
     "output_type": "display_data"
    }
   ],
   "source": [
    "#from keras.models import load_model\n",
    "#model_to_test = load_model(\"../models/twolayerLSTM.h5\")\n",
    "\n",
    "p = np.random.randint(0, 600)\n",
    "\n",
    "x = np.array([pose_data_by_dancer[40][p: p+seqLen]])\n",
    "#x = x[0:20]*0 \n",
    "y = salsa_retrain.predict(x)\n",
    "print(x)\n",
    "print(y)\n",
    "plt.rcParams['figure.figsize'] = [30, 15]\n",
    "plotSinglePose(flat_to_pose(y))"
   ]
  },
  {
   "cell_type": "code",
   "execution_count": 167,
   "metadata": {
    "ExecuteTime": {
     "end_time": "2019-11-27T04:01:24.309666Z",
     "start_time": "2019-11-27T04:01:24.300094Z"
    }
   },
   "outputs": [
    {
     "name": "stdout",
     "output_type": "stream",
     "text": [
      "Model: \"sequential_9\"\n",
      "_________________________________________________________________\n",
      "Layer (type)                 Output Shape              Param #   \n",
      "=================================================================\n",
      "lstm_15 (LSTM)               (None, 48, 36)            10512     \n",
      "_________________________________________________________________\n",
      "lstm_16 (LSTM)               (None, 36)                10512     \n",
      "_________________________________________________________________\n",
      "dense_7 (Dense)              (None, 36)                1332      \n",
      "=================================================================\n",
      "Total params: 22,356\n",
      "Trainable params: 22,356\n",
      "Non-trainable params: 0\n",
      "_________________________________________________________________\n"
     ]
    },
    {
     "data": {
      "text/plain": [
       "6.0"
      ]
     },
     "execution_count": 167,
     "metadata": {},
     "output_type": "execute_result"
    }
   ],
   "source": [
    "wts = salsa_retrain.get_weights()\n",
    "salsa_retrain.summary()\n",
    "(10512-144)/(48*36)"
   ]
  },
  {
   "cell_type": "code",
   "execution_count": 135,
   "metadata": {
    "ExecuteTime": {
     "end_time": "2019-11-26T22:18:27.864134Z",
     "start_time": "2019-11-26T22:18:27.857375Z"
    }
   },
   "outputs": [
    {
     "name": "stdout",
     "output_type": "stream",
     "text": [
      "('relu', 2, 100)\n",
      "('relu', 2, 150)\n",
      "('relu', 2, 200)\n",
      "('relu', 3, 100)\n",
      "('relu', 3, 150)\n",
      "('relu', 3, 200)\n",
      "('tanh', 2, 100)\n",
      "('tanh', 2, 150)\n",
      "('tanh', 2, 200)\n",
      "('tanh', 3, 100)\n",
      "('tanh', 3, 150)\n",
      "('tanh', 3, 200)\n"
     ]
    }
   ],
   "source": [
    "from itertools import product\n",
    "\n",
    "act_funcs = ['relu', 'tanh']\n",
    "layers = [2, 3]\n",
    "epochs = range(100, 250, 50)\n",
    "\n",
    "for item in product(act_funcs, layers, epochs):\n",
    "    print(item)\n",
    "\n",
    "    \n",
    "def salsa_model_template(item):\n",
    "    \"\"\"\n",
    "    item is tuple (activation, no of layers, epochs)\n",
    "    \"\"\"\n",
    "    \n",
    "    \n",
    "    \n",
    "    "
   ]
  }
 ],
 "metadata": {
  "kernelspec": {
   "display_name": "Python 3",
   "language": "python",
   "name": "python3"
  },
  "language_info": {
   "codemirror_mode": {
    "name": "ipython",
    "version": 3
   },
   "file_extension": ".py",
   "mimetype": "text/x-python",
   "name": "python",
   "nbconvert_exporter": "python",
   "pygments_lexer": "ipython3",
   "version": "3.7.3"
  },
  "toc": {
   "base_numbering": 1,
   "nav_menu": {},
   "number_sections": true,
   "sideBar": true,
   "skip_h1_title": false,
   "title_cell": "Table of Contents",
   "title_sidebar": "Contents",
   "toc_cell": false,
   "toc_position": {},
   "toc_section_display": true,
   "toc_window_display": false
  }
 },
 "nbformat": 4,
 "nbformat_minor": 2
}
