{
 "cells": [
  {
   "cell_type": "code",
   "execution_count": 47,
   "metadata": {
    "ExecuteTime": {
     "end_time": "2019-11-28T21:05:10.168192Z",
     "start_time": "2019-11-28T21:05:06.603236Z"
    }
   },
   "outputs": [],
   "source": [
    "import cv2\n",
    "\n",
    "import numpy as np\n",
    "import pandas as pd\n",
    "from joblib import load, dump\n",
    "\n",
    "import matplotlib.pyplot as plt\n",
    "import matplotlib.animation as animation\n",
    "%matplotlib inline\n",
    "\n",
    "# keras\n",
    "np.random.seed(13)\n",
    "from keras.models import Sequential\n",
    "from keras.layers import (Dense, Embedding, Reshape, Activation, \n",
    "                          SimpleRNN, LSTM, Convolution1D, \n",
    "                          MaxPooling1D, Dropout, Bidirectional)\n",
    "from keras.utils import np_utils\n",
    "from keras.utils.data_utils import get_file\n",
    "from keras.preprocessing import sequence\n",
    "from keras.optimizers import SGD, RMSprop, Adam\n",
    "from keras.callbacks import TensorBoard\n",
    "from keras.callbacks import EarlyStopping\n",
    "from keras.models import load_model\n",
    "from keras import optimizers\n",
    "\n",
    "nPoints = 18\n",
    "\n",
    "KEYPOINTS = ['Nose', 'Neck', 'R-Sho', 'R-Elb', 'R-Wr', 'L-Sho', \n",
    "                    'L-Elb', 'L-Wr', 'R-Hip', 'R-Knee', 'R-Ank', 'L-Hip', \n",
    "                    'L-Knee', 'L-Ank', 'R-Eye', 'L-Eye', 'R-Ear', 'L-Ear']\n",
    "\n",
    "POSE_PAIRS = [[1,2], [1,5], [2,3], [3,4], [5,6], [6,7],\n",
    "              [1,8], [8,9], [9,10], [1,11], [11,12], [12,13],\n",
    "              [1,0], [0,14], [14,16], [0,15], [15,17],\n",
    "              [2,17], [5,16]]\n",
    "\n",
    "POSE_PAIRS_MOD = [[1,2], [1,5], [2,3], [3,4], [5,6], [6,7],\n",
    "              [1,8], [8,9], [9,10], [1,11], [11,12], [12,13],\n",
    "              [1,0], [8,11]]\n",
    "\n",
    "def plotSinglePose(posePoint):\n",
    "        '''\n",
    "        Function to plot the MNIST data on a grid of NxN\n",
    "        '''\n",
    "        plt.rcParams['figure.figsize'] = [30, 15]\n",
    "        #ims = []\n",
    "        #fig = plt.figure()\n",
    "        \n",
    "        imgArray = np.ones((360, 640))\n",
    "        plt.imshow(imgArray, cmap=plt.cm.Greys, interpolation = 'nearest')\n",
    "        #ims.append([im])\n",
    "        plt.axis('off')\n",
    "        \n",
    "        for pair in POSE_PAIRS:\n",
    "            # Checking just xcoord for valid point is enough\n",
    "            valid_pt1 = (posePoint[pair[0]][0] != -1)\n",
    "            valid_pt2 = (posePoint[pair[1]][0] != -1)\n",
    "            if valid_pt1 and valid_pt2:\n",
    "                xs = [posePoint[pair[0]][0], posePoint[pair[1]][0]]\n",
    "                ys = [posePoint[pair[0]][1], posePoint[pair[1]][1]]\n",
    "                plt.plot(xs, ys,'ko-', linewidth=2)\n",
    "                \n",
    "        #ani = animation.ArtistAnimation(fig, ims, interval=50, blit=True,\n",
    "        #                        repeat_delay=1000)\n",
    "        plt.show()\n",
    "\n",
    "def plotSinglePose_mod(posePoint):\n",
    "        '''\n",
    "        Function to plot the MNIST data on a grid of NxN\n",
    "        '''\n",
    "        plt.rcParams['figure.figsize'] = [30, 15]\n",
    "        #ims = []\n",
    "        #fig = plt.figure()\n",
    "        \n",
    "        imgArray = np.ones((360, 640))\n",
    "        plt.imshow(imgArray, cmap=plt.cm.Greys, interpolation = 'nearest')\n",
    "        #ims.append([im])\n",
    "        plt.axis('off')\n",
    "        with plt.style.context('Solarize_Light2'):\n",
    "            for pair in POSE_PAIRS_MOD:\n",
    "                # Checking just xcoord for valid point is enough\n",
    "                valid_pt1 = (posePoint[pair[0]][0] != -1)\n",
    "                valid_pt2 = (posePoint[pair[1]][0] != -1)\n",
    "                if valid_pt1 and valid_pt2:\n",
    "                    xs = [posePoint[pair[0]][0], posePoint[pair[1]][0]]\n",
    "                    ys = [posePoint[pair[0]][1], posePoint[pair[1]][1]]\n",
    "                    plt.plot(xs, ys,'ko-', linewidth=2)\n",
    "                \n",
    "        #ani = animation.ArtistAnimation(fig, ims, interval=50, blit=True,\n",
    "        #                        repeat_delay=1000)\n",
    "        plt.show()        \n",
    "\n",
    "def genSalsa(seedPoses, salsaModel, steps = 8):\n",
    "    seqLen = seedPoses.shape[1]\n",
    "    for i in range(steps):\n",
    "        y_pred = salsa_model.predict(seedPoses[:,-(seqLen):,:])\n",
    "        seedPoses = np.append(seedPoses, [y_pred], axis=1)\n",
    "    return seedPoses\n",
    "        \n",
    "def flat_to_pose(flatPose):\n",
    "    pose_dim = flatPose.reshape((-1, 2))\n",
    "    \n",
    "    return {i:pose_dim[i].tolist() for i in range(0, len(pose_dim))}\n",
    "    \n",
    "\n",
    "pose_data_file = \"../data/frames/forRNN_pose_by_daner.out\"\n",
    "pose_data_by_dancer = load(pose_data_file)"
   ]
  },
  {
   "cell_type": "code",
   "execution_count": 48,
   "metadata": {
    "ExecuteTime": {
     "end_time": "2019-11-28T21:05:15.622232Z",
     "start_time": "2019-11-28T21:05:15.422175Z"
    }
   },
   "outputs": [],
   "source": [
    "dancers = len(pose_data_by_dancer)\n",
    "X = []\n",
    "y = []\n",
    "seqLen = 8\n",
    "slide = 1\n",
    "\n",
    "for dancer in range(dancers):\n",
    "    pose_coords = pose_data_by_dancer[dancer]\n",
    "    poses = len(pose_coords)\n",
    "    if poses<60:\n",
    "        continue #go to next dancer\n",
    "    \n",
    "    for i in range(0, poses - seqLen, slide):\n",
    "        X.append(pose_coords[i:i+seqLen])\n",
    "        y.append(pose_coords[i+seqLen])\n",
    "\n",
    "X = np.array(X)\n",
    "y = np.array(y)"
   ]
  },
  {
   "cell_type": "code",
   "execution_count": 49,
   "metadata": {
    "ExecuteTime": {
     "end_time": "2019-11-28T21:05:19.052872Z",
     "start_time": "2019-11-28T21:05:19.049083Z"
    }
   },
   "outputs": [
    {
     "name": "stdout",
     "output_type": "stream",
     "text": [
      "(34944, 8, 36)\n",
      "(34944, 36)\n"
     ]
    }
   ],
   "source": [
    "print(X.shape)\n",
    "print(y.shape)"
   ]
  },
  {
   "cell_type": "code",
   "execution_count": 34,
   "metadata": {
    "ExecuteTime": {
     "end_time": "2019-11-28T14:55:54.133639Z",
     "start_time": "2019-11-28T14:55:47.605490Z"
    }
   },
   "outputs": [],
   "source": [
    "salsa_model = load_model(\"../models/threelayerLSTM_relu_36kp_8seql_60iters.h5\")"
   ]
  },
  {
   "cell_type": "code",
   "execution_count": 35,
   "metadata": {
    "ExecuteTime": {
     "end_time": "2019-11-28T14:55:55.793480Z",
     "start_time": "2019-11-28T14:55:55.785930Z"
    }
   },
   "outputs": [
    {
     "name": "stdout",
     "output_type": "stream",
     "text": [
      "Model: \"sequential_1\"\n",
      "_________________________________________________________________\n",
      "Layer (type)                 Output Shape              Param #   \n",
      "=================================================================\n",
      "lstm_1 (LSTM)                (None, 8, 36)             10512     \n",
      "_________________________________________________________________\n",
      "lstm_2 (LSTM)                (None, 8, 36)             10512     \n",
      "_________________________________________________________________\n",
      "lstm_3 (LSTM)                (None, 36)                10512     \n",
      "_________________________________________________________________\n",
      "dense_1 (Dense)              (None, 36)                1332      \n",
      "=================================================================\n",
      "Total params: 32,868\n",
      "Trainable params: 32,868\n",
      "Non-trainable params: 0\n",
      "_________________________________________________________________\n"
     ]
    }
   ],
   "source": [
    "salsa_model.summary()"
   ]
  },
  {
   "cell_type": "code",
   "execution_count": 37,
   "metadata": {
    "ExecuteTime": {
     "end_time": "2019-11-28T15:36:18.346052Z",
     "start_time": "2019-11-28T14:57:12.913722Z"
    }
   },
   "outputs": [
    {
     "name": "stdout",
     "output_type": "stream",
     "text": [
      "Epoch 1/120\n",
      "34944/34944 [==============================] - 21s 611us/step - loss: 3072.7939 - mean_squared_error: 3072.7939\n",
      "Epoch 2/120\n",
      "34944/34944 [==============================] - 19s 551us/step - loss: 3015.2681 - mean_squared_error: 3015.2681\n",
      "Epoch 3/120\n",
      "34944/34944 [==============================] - 20s 564us/step - loss: 3011.7492 - mean_squared_error: 3011.7492\n",
      "Epoch 4/120\n",
      "34944/34944 [==============================] - 20s 567us/step - loss: 3009.7605 - mean_squared_error: 3009.7605\n",
      "Epoch 5/120\n",
      "34944/34944 [==============================] - 20s 566us/step - loss: 3008.4657 - mean_squared_error: 3008.4657\n",
      "Epoch 6/120\n",
      "34944/34944 [==============================] - 20s 564us/step - loss: 3007.5463 - mean_squared_error: 3007.5463\n",
      "Epoch 7/120\n",
      "34944/34944 [==============================] - 20s 576us/step - loss: 3006.8372 - mean_squared_error: 3006.8372\n",
      "Epoch 8/120\n",
      "34944/34944 [==============================] - 20s 568us/step - loss: 3006.2308 - mean_squared_error: 3006.2308\n",
      "Epoch 9/120\n",
      "34944/34944 [==============================] - 20s 562us/step - loss: 3005.7276 - mean_squared_error: 3005.7276\n",
      "Epoch 10/120\n",
      "34944/34944 [==============================] - 19s 553us/step - loss: 3005.2995 - mean_squared_error: 3005.2995\n",
      "Epoch 11/120\n",
      "34944/34944 [==============================] - 19s 551us/step - loss: 3004.9350 - mean_squared_error: 3004.9350\n",
      "Epoch 12/120\n",
      "34944/34944 [==============================] - 19s 556us/step - loss: 3004.5807 - mean_squared_error: 3004.5807\n",
      "Epoch 13/120\n",
      "34944/34944 [==============================] - 19s 546us/step - loss: 3004.2746 - mean_squared_error: 3004.2746\n",
      "Epoch 14/120\n",
      "34944/34944 [==============================] - 20s 581us/step - loss: 3004.0158 - mean_squared_error: 3004.0158\n",
      "Epoch 15/120\n",
      "34944/34944 [==============================] - 20s 569us/step - loss: 3003.7673 - mean_squared_error: 3003.7673\n",
      "Epoch 16/120\n",
      "34944/34944 [==============================] - 20s 559us/step - loss: 3003.5549 - mean_squared_error: 3003.5549\n",
      "Epoch 17/120\n",
      "34944/34944 [==============================] - 19s 551us/step - loss: 3003.3433 - mean_squared_error: 3003.3433\n",
      "Epoch 18/120\n",
      "34944/34944 [==============================] - 19s 548us/step - loss: 3003.1662 - mean_squared_error: 3003.1662\n",
      "Epoch 19/120\n",
      "34944/34944 [==============================] - 19s 553us/step - loss: 3002.9912 - mean_squared_error: 3002.9912\n",
      "Epoch 20/120\n",
      "34944/34944 [==============================] - 19s 555us/step - loss: 3002.8265 - mean_squared_error: 3002.8265\n",
      "Epoch 21/120\n",
      "34944/34944 [==============================] - 20s 568us/step - loss: 3002.6767 - mean_squared_error: 3002.6767\n",
      "Epoch 22/120\n",
      "34944/34944 [==============================] - 20s 564us/step - loss: 3002.5342 - mean_squared_error: 3002.5342\n",
      "Epoch 23/120\n",
      "34944/34944 [==============================] - 20s 574us/step - loss: 3002.4040 - mean_squared_error: 3002.4040\n",
      "Epoch 24/120\n",
      "34944/34944 [==============================] - 20s 581us/step - loss: 3002.2851 - mean_squared_error: 3002.2851\n",
      "Epoch 25/120\n",
      "34944/34944 [==============================] - 20s 580us/step - loss: 3002.1558 - mean_squared_error: 3002.1558\n",
      "Epoch 26/120\n",
      "34944/34944 [==============================] - 20s 567us/step - loss: 3002.0515 - mean_squared_error: 3002.0515\n",
      "Epoch 27/120\n",
      "34944/34944 [==============================] - 19s 558us/step - loss: 3001.9459 - mean_squared_error: 3001.9459\n",
      "Epoch 28/120\n",
      "34944/34944 [==============================] - 19s 553us/step - loss: 3001.8437 - mean_squared_error: 3001.8437\n",
      "Epoch 29/120\n",
      "34944/34944 [==============================] - 19s 554us/step - loss: 3001.7455 - mean_squared_error: 3001.7455\n",
      "Epoch 30/120\n",
      "34944/34944 [==============================] - 20s 565us/step - loss: 3001.6550 - mean_squared_error: 3001.6550\n",
      "Epoch 31/120\n",
      "34944/34944 [==============================] - 20s 562us/step - loss: 3001.5663 - mean_squared_error: 3001.5663\n",
      "Epoch 32/120\n",
      "34944/34944 [==============================] - 20s 564us/step - loss: 3001.4783 - mean_squared_error: 3001.4783\n",
      "Epoch 33/120\n",
      "34944/34944 [==============================] - 20s 583us/step - loss: 3001.4021 - mean_squared_error: 3001.4021\n",
      "Epoch 34/120\n",
      "34944/34944 [==============================] - 20s 568us/step - loss: 3001.3238 - mean_squared_error: 3001.3238\n",
      "Epoch 35/120\n",
      "34944/34944 [==============================] - 20s 570us/step - loss: 3001.2495 - mean_squared_error: 3001.2495\n",
      "Epoch 36/120\n",
      "34944/34944 [==============================] - 19s 548us/step - loss: 3001.1754 - mean_squared_error: 3001.1754\n",
      "Epoch 37/120\n",
      "34944/34944 [==============================] - 19s 545us/step - loss: 3001.1062 - mean_squared_error: 3001.1062\n",
      "Epoch 38/120\n",
      "34944/34944 [==============================] - 19s 550us/step - loss: 3001.0384 - mean_squared_error: 3001.0384\n",
      "Epoch 39/120\n",
      "34944/34944 [==============================] - 19s 557us/step - loss: 3000.9715 - mean_squared_error: 3000.9715\n",
      "Epoch 40/120\n",
      "34944/34944 [==============================] - 19s 555us/step - loss: 3000.9118 - mean_squared_error: 3000.9118\n",
      "Epoch 41/120\n",
      "34944/34944 [==============================] - 19s 551us/step - loss: 3000.8485 - mean_squared_error: 3000.8485\n",
      "Epoch 42/120\n",
      "34944/34944 [==============================] - 19s 547us/step - loss: 3000.7893 - mean_squared_error: 3000.7893\n",
      "Epoch 43/120\n",
      "34944/34944 [==============================] - 19s 555us/step - loss: 3000.7302 - mean_squared_error: 3000.7302\n",
      "Epoch 44/120\n",
      "34944/34944 [==============================] - 19s 549us/step - loss: 3000.6731 - mean_squared_error: 3000.6731\n",
      "Epoch 45/120\n",
      "34944/34944 [==============================] - 19s 553us/step - loss: 3000.6199 - mean_squared_error: 3000.6199\n",
      "Epoch 46/120\n",
      "34944/34944 [==============================] - 19s 546us/step - loss: 3000.5664 - mean_squared_error: 3000.5664\n",
      "Epoch 47/120\n",
      "34944/34944 [==============================] - 20s 558us/step - loss: 3000.5139 - mean_squared_error: 3000.5139\n",
      "Epoch 48/120\n",
      "34944/34944 [==============================] - 19s 556us/step - loss: 3000.4627 - mean_squared_error: 3000.4627\n",
      "Epoch 49/120\n",
      "34944/34944 [==============================] - 19s 552us/step - loss: 3000.4143 - mean_squared_error: 3000.4143\n",
      "Epoch 50/120\n",
      "34944/34944 [==============================] - 20s 562us/step - loss: 3000.3648 - mean_squared_error: 3000.3648\n",
      "Epoch 51/120\n",
      "34944/34944 [==============================] - 20s 566us/step - loss: 3000.3168 - mean_squared_error: 3000.3168\n",
      "Epoch 52/120\n",
      "34944/34944 [==============================] - 20s 573us/step - loss: 3000.2697 - mean_squared_error: 3000.2697\n",
      "Epoch 53/120\n",
      "34944/34944 [==============================] - 20s 563us/step - loss: 3000.2267 - mean_squared_error: 3000.2267\n",
      "Epoch 54/120\n",
      "34944/34944 [==============================] - 20s 578us/step - loss: 3000.1820 - mean_squared_error: 3000.1820\n",
      "Epoch 55/120\n",
      "34944/34944 [==============================] - 20s 568us/step - loss: 3000.1395 - mean_squared_error: 3000.1395\n",
      "Epoch 56/120\n",
      "34944/34944 [==============================] - 20s 563us/step - loss: 3000.0997 - mean_squared_error: 3000.0997\n",
      "Epoch 57/120\n",
      "34944/34944 [==============================] - 20s 561us/step - loss: 3000.0578 - mean_squared_error: 3000.0578\n",
      "Epoch 58/120\n",
      "34944/34944 [==============================] - 19s 557us/step - loss: 3000.0161 - mean_squared_error: 3000.0161\n",
      "Epoch 59/120\n",
      "34944/34944 [==============================] - 20s 571us/step - loss: 2999.9776 - mean_squared_error: 2999.9776\n",
      "Epoch 60/120\n",
      "34944/34944 [==============================] - 19s 555us/step - loss: 2999.9398 - mean_squared_error: 2999.9398\n",
      "Epoch 61/120\n",
      "34944/34944 [==============================] - 20s 577us/step - loss: 2999.9009 - mean_squared_error: 2999.9009\n",
      "Epoch 62/120\n",
      "34944/34944 [==============================] - 20s 561us/step - loss: 2999.8641 - mean_squared_error: 2999.8641\n",
      "Epoch 63/120\n",
      "34944/34944 [==============================] - 20s 564us/step - loss: 2999.8280 - mean_squared_error: 2999.8280\n",
      "Epoch 64/120\n",
      "34944/34944 [==============================] - 19s 553us/step - loss: 2999.7948 - mean_squared_error: 2999.7948\n",
      "Epoch 65/120\n",
      "34944/34944 [==============================] - 19s 548us/step - loss: 2999.7587 - mean_squared_error: 2999.7587\n",
      "Epoch 66/120\n",
      "34944/34944 [==============================] - 19s 546us/step - loss: 2999.7251 - mean_squared_error: 2999.7251\n",
      "Epoch 67/120\n",
      "34944/34944 [==============================] - 19s 552us/step - loss: 2999.6929 - mean_squared_error: 2999.6929\n",
      "Epoch 68/120\n",
      "34944/34944 [==============================] - 19s 547us/step - loss: 2999.6608 - mean_squared_error: 2999.6608\n",
      "Epoch 69/120\n",
      "34944/34944 [==============================] - 19s 552us/step - loss: 2999.6296 - mean_squared_error: 2999.6296\n",
      "Epoch 70/120\n",
      "34944/34944 [==============================] - 19s 555us/step - loss: 2999.5949 - mean_squared_error: 2999.5949\n",
      "Epoch 71/120\n",
      "34944/34944 [==============================] - 20s 573us/step - loss: 2999.5659 - mean_squared_error: 2999.5659\n",
      "Epoch 72/120\n",
      "34944/34944 [==============================] - 20s 573us/step - loss: 2999.5348 - mean_squared_error: 2999.5348\n",
      "Epoch 73/120\n",
      "34944/34944 [==============================] - 20s 563us/step - loss: 2999.5046 - mean_squared_error: 2999.5046\n",
      "Epoch 74/120\n",
      "34944/34944 [==============================] - 19s 548us/step - loss: 2999.4763 - mean_squared_error: 2999.4763\n",
      "Epoch 75/120\n",
      "34944/34944 [==============================] - 19s 541us/step - loss: 2999.4473 - mean_squared_error: 2999.4473\n",
      "Epoch 76/120\n",
      "34944/34944 [==============================] - 19s 552us/step - loss: 2999.4192 - mean_squared_error: 2999.4192\n",
      "Epoch 77/120\n",
      "34944/34944 [==============================] - 19s 552us/step - loss: 2999.3917 - mean_squared_error: 2999.3917\n",
      "Epoch 78/120\n",
      "34944/34944 [==============================] - 20s 560us/step - loss: 2999.3647 - mean_squared_error: 2999.3647\n",
      "Epoch 79/120\n",
      "34944/34944 [==============================] - 20s 571us/step - loss: 2999.3384 - mean_squared_error: 2999.3384\n",
      "Epoch 80/120\n",
      "34944/34944 [==============================] - 20s 566us/step - loss: 2999.3113 - mean_squared_error: 2999.3113\n",
      "Epoch 81/120\n",
      "34944/34944 [==============================] - 19s 552us/step - loss: 2999.2849 - mean_squared_error: 2999.2849\n",
      "Epoch 82/120\n",
      "34944/34944 [==============================] - 19s 553us/step - loss: 2999.2602 - mean_squared_error: 2999.2602\n",
      "Epoch 83/120\n",
      "34944/34944 [==============================] - 19s 554us/step - loss: 2999.2345 - mean_squared_error: 2999.2345\n",
      "Epoch 84/120\n",
      "34944/34944 [==============================] - 20s 578us/step - loss: 2999.2101 - mean_squared_error: 2999.2101\n",
      "Epoch 85/120\n",
      "34944/34944 [==============================] - 19s 551us/step - loss: 2999.1873 - mean_squared_error: 2999.1873\n",
      "Epoch 86/120\n",
      "34944/34944 [==============================] - 19s 549us/step - loss: 2999.1633 - mean_squared_error: 2999.1633\n",
      "Epoch 87/120\n",
      "34944/34944 [==============================] - 19s 554us/step - loss: 2999.1392 - mean_squared_error: 2999.1392\n",
      "Epoch 88/120\n",
      "34944/34944 [==============================] - 19s 553us/step - loss: 2999.1156 - mean_squared_error: 2999.1156\n",
      "Epoch 89/120\n",
      "34944/34944 [==============================] - 19s 547us/step - loss: 2999.0922 - mean_squared_error: 2999.0922\n",
      "Epoch 90/120\n",
      "34944/34944 [==============================] - 20s 565us/step - loss: 2999.0702 - mean_squared_error: 2999.0702\n",
      "Epoch 91/120\n",
      "34944/34944 [==============================] - 20s 565us/step - loss: 2999.0483 - mean_squared_error: 2999.0483\n",
      "Epoch 92/120\n",
      "34944/34944 [==============================] - 19s 555us/step - loss: 2999.0260 - mean_squared_error: 2999.0260\n",
      "Epoch 93/120\n",
      "34944/34944 [==============================] - 19s 553us/step - loss: 2999.0036 - mean_squared_error: 2999.0036\n",
      "Epoch 94/120\n",
      "34944/34944 [==============================] - 20s 560us/step - loss: 2998.9827 - mean_squared_error: 2998.9827\n",
      "Epoch 95/120\n",
      "34944/34944 [==============================] - 20s 561us/step - loss: 2998.9605 - mean_squared_error: 2998.9605\n",
      "Epoch 96/120\n",
      "34944/34944 [==============================] - 20s 561us/step - loss: 2998.9402 - mean_squared_error: 2998.9402\n",
      "Epoch 97/120\n",
      "34944/34944 [==============================] - 20s 569us/step - loss: 2998.9208 - mean_squared_error: 2998.9208\n",
      "Epoch 98/120\n",
      "34944/34944 [==============================] - 19s 545us/step - loss: 2998.8987 - mean_squared_error: 2998.8987\n",
      "Epoch 99/120\n",
      "34944/34944 [==============================] - 19s 547us/step - loss: 2998.8792 - mean_squared_error: 2998.8792\n",
      "Epoch 100/120\n",
      "34944/34944 [==============================] - 19s 550us/step - loss: 2998.8580 - mean_squared_error: 2998.8580\n",
      "Epoch 101/120\n",
      "34944/34944 [==============================] - 19s 550us/step - loss: 2998.8371 - mean_squared_error: 2998.8371\n",
      "Epoch 102/120\n",
      "34944/34944 [==============================] - 19s 547us/step - loss: 2998.8178 - mean_squared_error: 2998.8178\n",
      "Epoch 103/120\n",
      "34944/34944 [==============================] - 19s 547us/step - loss: 2998.7983 - mean_squared_error: 2998.7983\n",
      "Epoch 104/120\n",
      "34944/34944 [==============================] - 20s 570us/step - loss: 2998.7788 - mean_squared_error: 2998.7788\n",
      "Epoch 105/120\n",
      "34944/34944 [==============================] - 19s 555us/step - loss: 2998.7600 - mean_squared_error: 2998.7600\n",
      "Epoch 106/120\n",
      "34944/34944 [==============================] - 19s 552us/step - loss: 2998.7417 - mean_squared_error: 2998.7417\n",
      "Epoch 107/120\n",
      "34944/34944 [==============================] - 19s 551us/step - loss: 2998.7226 - mean_squared_error: 2998.7226\n",
      "Epoch 108/120\n",
      "34944/34944 [==============================] - 19s 549us/step - loss: 2998.7047 - mean_squared_error: 2998.7047\n",
      "Epoch 109/120\n",
      "34944/34944 [==============================] - 20s 571us/step - loss: 2998.6847 - mean_squared_error: 2998.6847\n",
      "Epoch 110/120\n",
      "34944/34944 [==============================] - 19s 556us/step - loss: 2998.6673 - mean_squared_error: 2998.6673\n",
      "Epoch 111/120\n",
      "34944/34944 [==============================] - 19s 554us/step - loss: 2998.6499 - mean_squared_error: 2998.6499\n",
      "Epoch 112/120\n",
      "34944/34944 [==============================] - 19s 554us/step - loss: 2998.6328 - mean_squared_error: 2998.6328\n",
      "Epoch 113/120\n",
      "34944/34944 [==============================] - 19s 555us/step - loss: 2998.6148 - mean_squared_error: 2998.6148\n",
      "Epoch 114/120\n",
      "34944/34944 [==============================] - 19s 549us/step - loss: 2998.5982 - mean_squared_error: 2998.5982\n",
      "Epoch 115/120\n",
      "34944/34944 [==============================] - 19s 550us/step - loss: 2998.5808 - mean_squared_error: 2998.5808\n",
      "Epoch 116/120\n",
      "34944/34944 [==============================] - 19s 551us/step - loss: 2998.5638 - mean_squared_error: 2998.5638\n",
      "Epoch 117/120\n",
      "34944/34944 [==============================] - 19s 553us/step - loss: 2998.5477 - mean_squared_error: 2998.5477\n",
      "Epoch 118/120\n",
      "34944/34944 [==============================] - 20s 572us/step - loss: 2998.5314 - mean_squared_error: 2998.5314\n",
      "Epoch 119/120\n",
      "34944/34944 [==============================] - 19s 554us/step - loss: 2998.5153 - mean_squared_error: 2998.5153\n",
      "Epoch 120/120\n",
      "34944/34944 [==============================] - 19s 554us/step - loss: 2998.4993 - mean_squared_error: 2998.4993\n"
     ]
    }
   ],
   "source": [
    "early_stopping = EarlyStopping(monitor='loss', min_delta = 0.001, patience=6, verbose=1)\n",
    "#tb = TensorBoard(histogram_freq=1, write_grads=True)\n",
    "\n",
    "kpoints = 36\n",
    "\n",
    "# Model\n",
    "#print('Build model...')\n",
    "#salsa_model = Sequential()\n",
    "#salsa_model.add(LSTM(kpoints, activation='relu', input_shape=(seqLen, kpoints), return_sequences=True))\n",
    "#salsa_model.add(LSTM(kpoints, activation='relu', input_shape=(seqLen, kpoints), return_sequences=True))\n",
    "#salsa_model.add(LSTM(kpoints, activation='relu', input_shape=(seqLen, kpoints), return_sequences=False))\n",
    "#salsa_model.add(Dense(kpoints))\n",
    "adm = optimizers.Adam(lr=0.01, decay=0.9)\n",
    "salsa_model.compile(optimizer=adm, loss='mse', metrics=['mse'])\n",
    "hist = salsa_model.fit(X, y, epochs=120, verbose=True)"
   ]
  },
  {
   "cell_type": "code",
   "execution_count": 40,
   "metadata": {
    "ExecuteTime": {
     "end_time": "2019-11-28T15:38:11.559326Z",
     "start_time": "2019-11-28T15:38:11.046899Z"
    }
   },
   "outputs": [
    {
     "data": {
      "image/png": "[encoded data removed]",
      "text/plain": [
       "<Figure size 2160x1080 with 1 Axes>"
      ]
     },
     "metadata": {
      "needs_background": "light"
     },
     "output_type": "display_data"
    }
   ],
   "source": [
    "#from keras.models import load_model\n",
    "#salsa_model = load_model(\"../models/threelayerLSTM.h5\")\n",
    "import time\n",
    "\n",
    "d = 3#np.random.randint(31, 39)\n",
    "p = np.random.randint(0, len(pose_data_by_dancer[d]))\n",
    "x = np.array([pose_data_by_dancer[d][p: p+seqLen]])\n",
    "gen_salsa = genSalsa(x, salsa_model, 48)\n",
    "#y_test = salsa_model.predict(x)\n",
    "#print(x)\n",
    "plt.rcParams['figure.figsize'] = [30, 15]\n",
    "plotSinglePose(flat_to_pose(gen_salsa[0,seqLen+1,:]))"
   ]
  },
  {
   "cell_type": "code",
   "execution_count": 41,
   "metadata": {
    "ExecuteTime": {
     "end_time": "2019-11-28T15:38:25.555443Z",
     "start_time": "2019-11-28T15:38:17.402811Z"
    }
   },
   "outputs": [
    {
     "name": "stderr",
     "output_type": "stream",
     "text": [
      "MovieWriter imagemagick unavailable; trying to use <class 'matplotlib.animation.PillowWriter'> instead.\n"
     ]
    },
    {
     "data": {
      "image/png": "[encoded data removed]",
      "text/plain": [
       "<Figure size 1440x720 with 1 Axes>"
      ]
     },
     "metadata": {
      "needs_background": "light"
     },
     "output_type": "display_data"
    }
   ],
   "source": [
    "import matplotlib.pyplot as plt\n",
    "import matplotlib.animation as animation\n",
    "from matplotlib.animation import FuncAnimation\n",
    "from IPython.display import HTML\n",
    "%matplotlib inline\n",
    "\n",
    "x_for_anim = gen_salsa\n",
    "\n",
    "plt.rcParams['figure.figsize'] = [20, 10]                              \n",
    "fig = plt.figure()\n",
    "ax = plt.axes(xlim=(0, 640), ylim=(0, 360))\n",
    "                              \n",
    "def animate(i):\n",
    "    ax.clear()\n",
    "    pose = x_for_anim[0][i].reshape((-1, 2))\n",
    "    #print(pose)\n",
    "    imgArray = np.ones((360, 640))\n",
    "    ax.imshow(imgArray, cmap=plt.cm.Greys, interpolation = 'nearest')\n",
    "    for pair in POSE_PAIRS_MOD:\n",
    "        # Checking just xcoord for valid point is enough\n",
    "        valid_pt1 = (pose[pair[0]][0] != -1)\n",
    "        valid_pt2 = (pose[pair[1]][0] != -1)\n",
    "        if valid_pt1 and valid_pt2:\n",
    "            xs = [pose[pair[0]][0], pose[pair[1]][0]]\n",
    "            ys = [pose[pair[0]][1], pose[pair[1]][1]]\n",
    "            ax.plot(xs, ys,'ko-', linewidth=2)                         \n",
    "\n",
    "anim = FuncAnimation(fig, animate, frames=56, interval=125)\n",
    "anim\n",
    "anim.save('redo_temp3_180iters.gif', writer='imagemagick')"
   ]
  },
  {
   "cell_type": "code",
   "execution_count": 42,
   "metadata": {
    "ExecuteTime": {
     "end_time": "2019-11-28T15:39:18.617095Z",
     "start_time": "2019-11-28T15:39:15.891820Z"
    }
   },
   "outputs": [],
   "source": [
    "salsa_model.save(\"../models/threelayerLSTM_relu_36kp_8seql_180iters.h5\")"
   ]
  },
  {
   "cell_type": "code",
   "execution_count": 51,
   "metadata": {
    "ExecuteTime": {
     "end_time": "2019-11-28T21:10:16.262657Z",
     "start_time": "2019-11-28T21:05:55.696790Z"
    },
    "scrolled": false
   },
   "outputs": [
    {
     "name": "stdout",
     "output_type": "stream",
     "text": [
      "Build model...\n",
      "Model: \"sequential_8\"\n",
      "_________________________________________________________________\n",
      "Layer (type)                 Output Shape              Param #   \n",
      "=================================================================\n",
      "lstm_16 (LSTM)               (None, 8, 216)            218592    \n",
      "_________________________________________________________________\n",
      "lstm_17 (LSTM)               (None, 108)               140400    \n",
      "_________________________________________________________________\n",
      "dense_8 (Dense)              (None, 36)                3924      \n",
      "=================================================================\n",
      "Total params: 362,916\n",
      "Trainable params: 362,916\n",
      "Non-trainable params: 0\n",
      "_________________________________________________________________\n",
      "Epoch 1/12\n",
      "34944/34944 [==============================] - 23s 650us/step - loss: 7975.0939 - mean_squared_error: 7975.0939\n",
      "Epoch 2/12\n",
      "34944/34944 [==============================] - 20s 578us/step - loss: 5657.3674 - mean_squared_error: 5657.3674\n",
      "Epoch 3/12\n",
      "34944/34944 [==============================] - 21s 589us/step - loss: 5489.6334 - mean_squared_error: 5489.6334\n",
      "Epoch 4/12\n",
      "34944/34944 [==============================] - 21s 595us/step - loss: 5383.2674 - mean_squared_error: 5383.2674\n",
      "Epoch 5/12\n",
      "34944/34944 [==============================] - 21s 593us/step - loss: 5314.0933 - mean_squared_error: 5314.0933\n",
      "Epoch 6/12\n",
      "34944/34944 [==============================] - 21s 602us/step - loss: 5267.7763 - mean_squared_error: 5267.7763\n",
      "Epoch 7/12\n",
      "34944/34944 [==============================] - 23s 647us/step - loss: 5228.2362 - mean_squared_error: 5228.2362\n",
      "Epoch 8/12\n",
      "34944/34944 [==============================] - 21s 615us/step - loss: 5193.1291 - mean_squared_error: 5193.1291\n",
      "Epoch 9/12\n",
      "34944/34944 [==============================] - 21s 614us/step - loss: 5165.6036 - mean_squared_error: 5165.6036\n",
      "Epoch 10/12\n",
      "34944/34944 [==============================] - 22s 637us/step - loss: 5139.8291 - mean_squared_error: 5139.8291\n",
      "Epoch 11/12\n",
      "34944/34944 [==============================] - 22s 640us/step - loss: 5114.7830 - mean_squared_error: 5114.7830\n",
      "Epoch 12/12\n",
      "34944/34944 [==============================] - 23s 653us/step - loss: 5092.4787 - mean_squared_error: 5092.4787\n"
     ]
    }
   ],
   "source": [
    "# Model\n",
    "print('Build model...')\n",
    "stest = Sequential()\n",
    "stest.add(LSTM(6*kpoints, activation='relu', input_shape=(seqLen, kpoints), return_sequences=True))\n",
    "#salsa_model.add(Dropout(drop_prob))\n",
    "stest.add(LSTM(3*kpoints, activation='relu', return_sequences=False))\n",
    "#salsa_model.add(Dropout(drop_prob))\n",
    "stest.add(Dense(kpoints))\n",
    "adm = optimizers.Adam(lr=0.01, decay=0.8)\n",
    "stest.compile(optimizer=adm, loss='mse', metrics=['mse'])\n",
    "stest.summary()\n",
    "hist = stest.fit(X, y, epochs=12, verbose=True)"
   ]
  },
  {
   "cell_type": "code",
   "execution_count": 86,
   "metadata": {
    "ExecuteTime": {
     "end_time": "2019-11-28T21:24:05.992688Z",
     "start_time": "2019-11-28T21:19:35.332871Z"
    },
    "scrolled": true
   },
   "outputs": [
    {
     "name": "stdout",
     "output_type": "stream",
     "text": [
      "Epoch 1/12\n",
      "34944/34944 [==============================] - 20s 566us/step - loss: 5071.3098 - mean_squared_error: 5071.3098\n",
      "Epoch 2/12\n",
      "34944/34944 [==============================] - 22s 616us/step - loss: 5051.8889 - mean_squared_error: 5051.8889\n",
      "Epoch 3/12\n",
      "34944/34944 [==============================] - 22s 639us/step - loss: 5039.0315 - mean_squared_error: 5039.0315\n",
      "Epoch 4/12\n",
      "34944/34944 [==============================] - 22s 628us/step - loss: 5025.5939 - mean_squared_error: 5025.5939\n",
      "Epoch 5/12\n",
      "34944/34944 [==============================] - 22s 640us/step - loss: 5011.9651 - mean_squared_error: 5011.9651\n",
      "Epoch 6/12\n",
      "34944/34944 [==============================] - 22s 636us/step - loss: 4999.5472 - mean_squared_error: 4999.5472\n",
      "Epoch 7/12\n",
      "34944/34944 [==============================] - 23s 653us/step - loss: 4987.9827 - mean_squared_error: 4987.9827\n",
      "Epoch 8/12\n",
      "34944/34944 [==============================] - 24s 688us/step - loss: 4977.0759 - mean_squared_error: 4977.0759\n",
      "Epoch 9/12\n",
      "34944/34944 [==============================] - 23s 655us/step - loss: 4966.5705 - mean_squared_error: 4966.5705\n",
      "Epoch 10/12\n",
      "34944/34944 [==============================] - 23s 651us/step - loss: 4957.5600 - mean_squared_error: 4957.5600\n",
      "Epoch 11/12\n",
      "34944/34944 [==============================] - 25s 710us/step - loss: 4949.2117 - mean_squared_error: 4949.2117\n",
      "Epoch 12/12\n",
      "34944/34944 [==============================] - 23s 664us/step - loss: 4940.8316 - mean_squared_error: 4940.8316\n"
     ]
    }
   ],
   "source": [
    "hist = stest.fit(X, y, epochs=12, verbose=True)"
   ]
  },
  {
   "cell_type": "code",
   "execution_count": 107,
   "metadata": {
    "ExecuteTime": {
     "end_time": "2019-11-28T22:01:39.404964Z",
     "start_time": "2019-11-28T21:57:07.945069Z"
    }
   },
   "outputs": [
    {
     "name": "stdout",
     "output_type": "stream",
     "text": [
      "Epoch 1/12\n",
      "34944/34944 [==============================] - 19s 549us/step - loss: 4814.2016 - mean_squared_error: 4814.2016\n",
      "Epoch 2/12\n",
      "34944/34944 [==============================] - 20s 577us/step - loss: 4810.6672 - mean_squared_error: 4810.6672\n",
      "Epoch 3/12\n",
      "34944/34944 [==============================] - 20s 564us/step - loss: 4807.7466 - mean_squared_error: 4807.7466\n",
      "Epoch 4/12\n",
      "34944/34944 [==============================] - 20s 573us/step - loss: 4804.8454 - mean_squared_error: 4804.8454\n",
      "Epoch 5/12\n",
      "34944/34944 [==============================] - 23s 654us/step - loss: 4801.6766 - mean_squared_error: 4801.6766\n",
      "Epoch 6/12\n",
      "34944/34944 [==============================] - 22s 630us/step - loss: 4799.0301 - mean_squared_error: 4799.0301\n",
      "Epoch 7/12\n",
      "34944/34944 [==============================] - 22s 616us/step - loss: 4796.4310 - mean_squared_error: 4796.4310\n",
      "Epoch 8/12\n",
      "34944/34944 [==============================] - 23s 667us/step - loss: 4793.6767 - mean_squared_error: 4793.6767\n",
      "Epoch 9/12\n",
      "34944/34944 [==============================] - 22s 625us/step - loss: 4790.6272 - mean_squared_error: 4790.6272\n",
      "Epoch 10/12\n",
      "34944/34944 [==============================] - 22s 625us/step - loss: 4787.5883 - mean_squared_error: 4787.5883\n",
      "Epoch 11/12\n",
      "34944/34944 [==============================] - 29s 835us/step - loss: 4785.3982 - mean_squared_error: 4785.3982\n",
      "Epoch 12/12\n",
      "34944/34944 [==============================] - 30s 854us/step - loss: 4782.6118 - mean_squared_error: 4782.6118\n"
     ]
    }
   ],
   "source": [
    "hist = stest.fit(X, y, epochs=12, verbose=True)"
   ]
  },
  {
   "cell_type": "code",
   "execution_count": 109,
   "metadata": {
    "ExecuteTime": {
     "end_time": "2019-11-28T22:02:56.285923Z",
     "start_time": "2019-11-28T22:02:55.884603Z"
    }
   },
   "outputs": [
    {
     "data": {
      "image/png": "[encoded data removed]",
      "text/plain": [
       "<Figure size 2160x1080 with 1 Axes>"
      ]
     },
     "metadata": {
      "needs_background": "light"
     },
     "output_type": "display_data"
    }
   ],
   "source": [
    "#from keras.models import load_model\n",
    "#salsa_model = load_model(\"../models/threelayerLSTM.h5\")\n",
    "import time\n",
    "\n",
    "d = 3#np.random.randint(1, 70)\n",
    "p = np.random.randint(0, len(pose_data_by_dancer[d]))\n",
    "x = np.array([pose_data_by_dancer[d][p: p+seqLen]])\n",
    "gen_salsa = genSalsa(x, stest, 48)\n",
    "#y_test = salsa_model.predict(x)\n",
    "#print(x)\n",
    "plt.rcParams['figure.figsize'] = [30, 15]\n",
    "plotSinglePose_mod(flat_to_pose(gen_salsa[0,seqLen+1,:]))"
   ]
  },
  {
   "cell_type": "code",
   "execution_count": 110,
   "metadata": {
    "ExecuteTime": {
     "end_time": "2019-11-28T22:03:09.403496Z",
     "start_time": "2019-11-28T22:03:00.045076Z"
    },
    "scrolled": true
   },
   "outputs": [
    {
     "name": "stderr",
     "output_type": "stream",
     "text": [
      "MovieWriter imagemagick unavailable; trying to use <class 'matplotlib.animation.PillowWriter'> instead.\n"
     ]
    },
    {
     "data": {
      "image/png": "[encoded data removed]",
      "text/plain": [
       "<Figure size 1440x720 with 1 Axes>"
      ]
     },
     "metadata": {
      "needs_background": "light"
     },
     "output_type": "display_data"
    }
   ],
   "source": [
    "import matplotlib.pyplot as plt\n",
    "import matplotlib.animation as animation\n",
    "from matplotlib.animation import FuncAnimation\n",
    "from IPython.display import HTML\n",
    "%matplotlib inline\n",
    "\n",
    "x_for_anim = gen_salsa\n",
    "\n",
    "plt.rcParams['figure.figsize'] = [20, 10]                              \n",
    "fig = plt.figure()\n",
    "ax = plt.axes(xlim=(0, 640), ylim=(0, 360))\n",
    "                              \n",
    "def animate(i):\n",
    "    ax.clear()\n",
    "    pose = x_for_anim[0][i].reshape((-1, 2))\n",
    "    #print(pose)\n",
    "    imgArray = np.ones((360, 640))\n",
    "    ax.imshow(imgArray, cmap=plt.cm.Greys, interpolation = 'nearest')\n",
    "    for pair in POSE_PAIRS_MOD:\n",
    "        # Checking just xcoord for valid point is enough\n",
    "        valid_pt1 = (pose[pair[0]][0] != -1)\n",
    "        valid_pt2 = (pose[pair[1]][0] != -1)\n",
    "        if valid_pt1 and valid_pt2:\n",
    "            xs = [pose[pair[0]][0], pose[pair[1]][0]]\n",
    "            ys = [pose[pair[0]][1], pose[pair[1]][1]]\n",
    "            ax.plot(xs, ys,'ko-', linewidth=2)                         \n",
    "\n",
    "anim = FuncAnimation(fig, animate, frames=56, interval=125)\n",
    "anim\n",
    "anim.save('../preds/TapperHidden_12iters_a.gif', writer='imagemagick')"
   ]
  },
  {
   "cell_type": "code",
   "execution_count": 117,
   "metadata": {
    "ExecuteTime": {
     "end_time": "2019-11-29T04:00:18.059215Z",
     "start_time": "2019-11-29T04:00:17.134449Z"
    }
   },
   "outputs": [
    {
     "name": "stdout",
     "output_type": "stream",
     "text": [
      "Build model...\n",
      "Model: \"sequential_14\"\n",
      "_________________________________________________________________\n",
      "Layer (type)                 Output Shape              Param #   \n",
      "=================================================================\n",
      "lstm_28 (LSTM)               (None, 8, 432)            810432    \n",
      "_________________________________________________________________\n",
      "lstm_29 (LSTM)               (None, 8, 432)            1494720   \n",
      "_________________________________________________________________\n",
      "time_distributed_3 (TimeDist (None, 8, 36)             15588     \n",
      "=================================================================\n",
      "Total params: 2,320,740\n",
      "Trainable params: 2,320,740\n",
      "Non-trainable params: 0\n",
      "_________________________________________________________________\n"
     ]
    }
   ],
   "source": [
    "# Model\n",
    "from keras.layers import TimeDistributed\n",
    "print('Build model...')\n",
    "stest1 = Sequential()\n",
    "stest1.add(LSTM(12*kpoints, activation='relu', input_shape=(seqLen, kpoints), return_sequences=True))\n",
    "#salsa_model.add(Dropout(drop_prob))\n",
    "stest1.add(LSTM(12*kpoints, activation='relu', return_sequences=True))\n",
    "#salsa_model.add(Dropout(drop_prob))\n",
    "stest1.add(TimeDistributed(Dense(kpoints)))\n",
    "adm1 = optimizers.Adam(lr=0.01, decay=0.8)\n",
    "stest1.compile(optimizer=adm1, loss='mse', metrics=['mse'])\n",
    "stest1.summary()"
   ]
  }
 ],
 "metadata": {
  "kernelspec": {
   "display_name": "Python [conda env:metis] *",
   "language": "python",
   "name": "conda-env-metis-py"
  },
  "language_info": {
   "codemirror_mode": {
    "name": "ipython",
    "version": 3
   },
   "file_extension": ".py",
   "mimetype": "text/x-python",
   "name": "python",
   "nbconvert_exporter": "python",
   "pygments_lexer": "ipython3",
   "version": "3.7.3"
  },
  "toc": {
   "base_numbering": 1,
   "nav_menu": {},
   "number_sections": true,
   "sideBar": true,
   "skip_h1_title": false,
   "title_cell": "Table of Contents",
   "title_sidebar": "Contents",
   "toc_cell": false,
   "toc_position": {},
   "toc_section_display": true,
   "toc_window_display": false
  }
 },
 "nbformat": 4,
 "nbformat_minor": 2
}
