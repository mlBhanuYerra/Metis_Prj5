{
 "cells": [
  {
   "cell_type": "code",
   "execution_count": 1,
   "metadata": {
    "ExecuteTime": {
     "end_time": "2019-11-28T15:53:11.329423Z",
     "start_time": "2019-11-28T15:53:06.563143Z"
    }
   },
   "outputs": [
    {
     "name": "stderr",
     "output_type": "stream",
     "text": [
      "Using TensorFlow backend.\n",
      "//anaconda3/envs/metis/lib/python3.7/site-packages/tensorflow/python/framework/dtypes.py:526: FutureWarning: Passing (type, 1) or '1type' as a synonym of type is deprecated; in a future version of numpy, it will be understood as (type, (1,)) / '(1,)type'.\n",
      "  _np_qint8 = np.dtype([(\"qint8\", np.int8, 1)])\n",
      "//anaconda3/envs/metis/lib/python3.7/site-packages/tensorflow/python/framework/dtypes.py:527: FutureWarning: Passing (type, 1) or '1type' as a synonym of type is deprecated; in a future version of numpy, it will be understood as (type, (1,)) / '(1,)type'.\n",
      "  _np_quint8 = np.dtype([(\"quint8\", np.uint8, 1)])\n",
      "//anaconda3/envs/metis/lib/python3.7/site-packages/tensorflow/python/framework/dtypes.py:528: FutureWarning: Passing (type, 1) or '1type' as a synonym of type is deprecated; in a future version of numpy, it will be understood as (type, (1,)) / '(1,)type'.\n",
      "  _np_qint16 = np.dtype([(\"qint16\", np.int16, 1)])\n",
      "//anaconda3/envs/metis/lib/python3.7/site-packages/tensorflow/python/framework/dtypes.py:529: FutureWarning: Passing (type, 1) or '1type' as a synonym of type is deprecated; in a future version of numpy, it will be understood as (type, (1,)) / '(1,)type'.\n",
      "  _np_quint16 = np.dtype([(\"quint16\", np.uint16, 1)])\n",
      "//anaconda3/envs/metis/lib/python3.7/site-packages/tensorflow/python/framework/dtypes.py:530: FutureWarning: Passing (type, 1) or '1type' as a synonym of type is deprecated; in a future version of numpy, it will be understood as (type, (1,)) / '(1,)type'.\n",
      "  _np_qint32 = np.dtype([(\"qint32\", np.int32, 1)])\n",
      "//anaconda3/envs/metis/lib/python3.7/site-packages/tensorflow/python/framework/dtypes.py:535: FutureWarning: Passing (type, 1) or '1type' as a synonym of type is deprecated; in a future version of numpy, it will be understood as (type, (1,)) / '(1,)type'.\n",
      "  np_resource = np.dtype([(\"resource\", np.ubyte, 1)])\n"
     ]
    }
   ],
   "source": [
    "import cv2\n",
    "\n",
    "import numpy as np\n",
    "import pandas as pd\n",
    "from joblib import load, dump\n",
    "\n",
    "import matplotlib.pyplot as plt\n",
    "import matplotlib.animation as animation\n",
    "%matplotlib inline\n",
    "\n",
    "# keras\n",
    "np.random.seed(13)\n",
    "from keras.models import Sequential\n",
    "from keras.layers import (Dense, Embedding, Reshape, Activation, \n",
    "                          SimpleRNN, LSTM, Convolution1D, \n",
    "                          MaxPooling1D, Dropout, Bidirectional)\n",
    "from keras.utils import np_utils\n",
    "from keras.utils.data_utils import get_file\n",
    "from keras.preprocessing import sequence\n",
    "from keras.optimizers import SGD, RMSprop, Adam\n",
    "from keras.callbacks import TensorBoard\n",
    "from keras.callbacks import EarlyStopping\n",
    "from keras.models import load_model\n",
    "from keras import optimizers\n",
    "\n",
    "nPoints = 18\n",
    "\n",
    "KEYPOINTS = ['Nose', 'Neck', 'R-Sho', 'R-Elb', 'R-Wr', 'L-Sho', \n",
    "                    'L-Elb', 'L-Wr', 'R-Hip', 'R-Knee', 'R-Ank', 'L-Hip', \n",
    "                    'L-Knee', 'L-Ank', 'R-Eye', 'L-Eye', 'R-Ear', 'L-Ear']\n",
    "\n",
    "POSE_PAIRS = [[1,2], [1,5], [2,3], [3,4], [5,6], [6,7],\n",
    "              [1,8], [8,9], [9,10], [1,11], [11,12], [12,13],\n",
    "              [1,0], [0,14], [14,16], [0,15], [15,17],\n",
    "              [2,17], [5,16]]\n",
    "\n",
    "POSE_PAIRS_MOD = [[1,2], [1,5], [2,3], [3,4], [5,6], [6,7],\n",
    "              [1,8], [8,9], [9,10], [1,11], [11,12], [12,13],\n",
    "              [1,0], [8,11]]\n",
    "\n",
    "def plotSinglePose(posePoint):\n",
    "        '''\n",
    "        Function to plot the MNIST data on a grid of NxN\n",
    "        '''\n",
    "        plt.rcParams['figure.figsize'] = [30, 15]\n",
    "        #ims = []\n",
    "        #fig = plt.figure()\n",
    "        \n",
    "        imgArray = np.ones((360, 640))\n",
    "        plt.imshow(imgArray, cmap=plt.cm.Greys, interpolation = 'nearest')\n",
    "        #ims.append([im])\n",
    "        plt.axis('off')\n",
    "        \n",
    "        for pair in POSE_PAIRS:\n",
    "            # Checking just xcoord for valid point is enough\n",
    "            valid_pt1 = (posePoint[pair[0]][0] != -1)\n",
    "            valid_pt2 = (posePoint[pair[1]][0] != -1)\n",
    "            if valid_pt1 and valid_pt2:\n",
    "                xs = [posePoint[pair[0]][0], posePoint[pair[1]][0]]\n",
    "                ys = [posePoint[pair[0]][1], posePoint[pair[1]][1]]\n",
    "                plt.plot(xs, ys,'ko-', linewidth=2)\n",
    "                \n",
    "        #ani = animation.ArtistAnimation(fig, ims, interval=50, blit=True,\n",
    "        #                        repeat_delay=1000)\n",
    "        plt.show()\n",
    "\n",
    "def plotSinglePose_mod(posePoint):\n",
    "        '''\n",
    "        Function to plot the MNIST data on a grid of NxN\n",
    "        '''\n",
    "        plt.rcParams['figure.figsize'] = [30, 15]\n",
    "        #ims = []\n",
    "        #fig = plt.figure()\n",
    "        \n",
    "        imgArray = np.ones((360, 640))\n",
    "        plt.imshow(imgArray, cmap=plt.cm.Greys, interpolation = 'nearest')\n",
    "        #ims.append([im])\n",
    "        plt.axis('off')\n",
    "        with plt.style.context('Solarize_Light2'):\n",
    "            for pair in POSE_PAIRS_MOD:\n",
    "                # Checking just xcoord for valid point is enough\n",
    "                valid_pt1 = (posePoint[pair[0]][0] != -1)\n",
    "                valid_pt2 = (posePoint[pair[1]][0] != -1)\n",
    "                if valid_pt1 and valid_pt2:\n",
    "                    xs = [posePoint[pair[0]][0], posePoint[pair[1]][0]]\n",
    "                    ys = [posePoint[pair[0]][1], posePoint[pair[1]][1]]\n",
    "                    plt.plot(xs, ys,'ko-', linewidth=2)\n",
    "                \n",
    "        #ani = animation.ArtistAnimation(fig, ims, interval=50, blit=True,\n",
    "        #                        repeat_delay=1000)\n",
    "        plt.show()        \n",
    "\n",
    "def genSalsa(seedPoses, salsaModel, steps = 8):\n",
    "    seqLen = seedPoses.shape[1]\n",
    "    for i in range(steps):\n",
    "        y_pred = salsa_model.predict(seedPoses[:,-(seqLen):,:])\n",
    "        seedPoses = np.append(seedPoses, [y_pred], axis=1)\n",
    "    return seedPoses\n",
    "        \n",
    "def flat_to_pose(flatPose):\n",
    "    pose_dim = flatPose.reshape((-1, 2))\n",
    "    \n",
    "    return {i:pose_dim[i].tolist() for i in range(0, len(pose_dim))}\n",
    "    \n",
    "\n",
    "pose_data_file = \"../data/frames/forRNN_pose_by_daner.out\"\n",
    "pose_data_by_dancer = load(pose_data_file)"
   ]
  },
  {
   "cell_type": "code",
   "execution_count": 2,
   "metadata": {
    "ExecuteTime": {
     "end_time": "2019-11-28T15:53:13.582400Z",
     "start_time": "2019-11-28T15:53:13.402887Z"
    }
   },
   "outputs": [],
   "source": [
    "dancers = len(pose_data_by_dancer)\n",
    "X = []\n",
    "y = []\n",
    "seqLen = 8\n",
    "slide = 1\n",
    "\n",
    "for dancer in range(dancers):\n",
    "    pose_coords = pose_data_by_dancer[dancer]\n",
    "    poses = len(pose_coords)\n",
    "    if poses<60:\n",
    "        continue #go to next dancer\n",
    "    \n",
    "    for i in range(0, poses - seqLen, slide):\n",
    "        X.append(pose_coords[i:i+seqLen])\n",
    "        y.append(pose_coords[i+seqLen])\n",
    "\n",
    "X = np.array(X)\n",
    "y = np.array(y)"
   ]
  },
  {
   "cell_type": "code",
   "execution_count": 3,
   "metadata": {
    "ExecuteTime": {
     "end_time": "2019-11-28T15:53:16.123538Z",
     "start_time": "2019-11-28T15:53:16.119404Z"
    }
   },
   "outputs": [
    {
     "name": "stdout",
     "output_type": "stream",
     "text": [
      "(34944, 8, 36)\n",
      "(34944, 36)\n"
     ]
    }
   ],
   "source": [
    "print(X.shape)\n",
    "print(y.shape)"
   ]
  },
  {
   "cell_type": "code",
   "execution_count": 34,
   "metadata": {
    "ExecuteTime": {
     "end_time": "2019-11-28T14:55:54.133639Z",
     "start_time": "2019-11-28T14:55:47.605490Z"
    }
   },
   "outputs": [],
   "source": [
    "salsa_model = load_model(\"../models/threelayerLSTM_relu_36kp_8seql_60iters.h5\")"
   ]
  },
  {
   "cell_type": "code",
   "execution_count": 12,
   "metadata": {
    "ExecuteTime": {
     "end_time": "2019-11-28T17:19:26.841048Z",
     "start_time": "2019-11-28T17:19:26.836297Z"
    }
   },
   "outputs": [
    {
     "name": "stdout",
     "output_type": "stream",
     "text": [
      "Model: \"sequential_3\"\n",
      "_________________________________________________________________\n",
      "Layer (type)                 Output Shape              Param #   \n",
      "=================================================================\n",
      "lstm_7 (LSTM)                (None, 8, 72)             31392     \n",
      "_________________________________________________________________\n",
      "lstm_8 (LSTM)                (None, 8, 72)             41760     \n",
      "_________________________________________________________________\n",
      "lstm_9 (LSTM)                (None, 72)                41760     \n",
      "_________________________________________________________________\n",
      "dense_3 (Dense)              (None, 36)                2628      \n",
      "=================================================================\n",
      "Total params: 117,540\n",
      "Trainable params: 117,540\n",
      "Non-trainable params: 0\n",
      "_________________________________________________________________\n"
     ]
    }
   ],
   "source": [
    "salsa_model.summary()"
   ]
  },
  {
   "cell_type": "code",
   "execution_count": 13,
   "metadata": {
    "ExecuteTime": {
     "end_time": "2019-11-28T17:23:40.147233Z",
     "start_time": "2019-11-28T17:19:33.128632Z"
    }
   },
   "outputs": [
    {
     "name": "stdout",
     "output_type": "stream",
     "text": [
      "Build model...\n",
      "Epoch 1/12\n",
      "34944/34944 [==============================] - 22s 625us/step - loss: 12048.1704 - mean_squared_error: 12048.1704\n",
      "Epoch 2/12\n",
      "34944/34944 [==============================] - 20s 576us/step - loss: 9053.4931 - mean_squared_error: 9053.4931\n",
      "Epoch 3/12\n",
      "34944/34944 [==============================] - 20s 586us/step - loss: 8558.4051 - mean_squared_error: 8558.4051\n",
      "Epoch 4/12\n",
      "34944/34944 [==============================] - 21s 604us/step - loss: 8265.3302 - mean_squared_error: 8265.3302\n",
      "Epoch 5/12\n",
      "34944/34944 [==============================] - 20s 586us/step - loss: 8065.8451 - mean_squared_error: 8065.8451\n",
      "Epoch 6/12\n",
      "34944/34944 [==============================] - 20s 579us/step - loss: 7929.1401 - mean_squared_error: 7929.1401\n",
      "Epoch 7/12\n",
      "34944/34944 [==============================] - 20s 574us/step - loss: 7813.0821 - mean_squared_error: 7813.0821\n",
      "Epoch 8/12\n",
      "34944/34944 [==============================] - 20s 576us/step - loss: 7711.9457 - mean_squared_error: 7711.9457\n",
      "Epoch 9/12\n",
      "34944/34944 [==============================] - 20s 581us/step - loss: 7629.2903 - mean_squared_error: 7629.2903\n",
      "Epoch 10/12\n",
      "34944/34944 [==============================] - 20s 572us/step - loss: 7549.8110 - mean_squared_error: 7549.8110\n",
      "Epoch 11/12\n",
      "34944/34944 [==============================] - 20s 574us/step - loss: 7487.8338 - mean_squared_error: 7487.8338\n",
      "Epoch 12/12\n",
      "34944/34944 [==============================] - 20s 577us/step - loss: 7433.9895 - mean_squared_error: 7433.9895\n"
     ]
    }
   ],
   "source": [
    "early_stopping = EarlyStopping(monitor='loss', min_delta = 0.001, patience=6, verbose=1)\n",
    "#tb = TensorBoard(histogram_freq=1, write_grads=True)\n",
    "\n",
    "kpoints = 36\n",
    "drop_prob = 0.1\n",
    "\n",
    "# Model\n",
    "print('Build model...')\n",
    "salsa_model = Sequential()\n",
    "salsa_model.add(LSTM(2*kpoints, activation='relu', input_shape=(seqLen, kpoints), return_sequences=True))\n",
    "#salsa_model.add(Dropout(drop_prob))\n",
    "salsa_model.add(LSTM(2*kpoints, activation='relu', return_sequences=True))\n",
    "#salsa_model.add(Dropout(drop_prob))\n",
    "salsa_model.add(LSTM(2*kpoints, activation='relu', return_sequences=False))\n",
    "#salsa_model.add(Dropout(drop_prob))\n",
    "salsa_model.add(Dense(kpoints))\n",
    "adm = optimizers.Adam(lr=0.01, decay=0.8)\n",
    "salsa_model.compile(optimizer=adm, loss='mse', metrics=['mse'])\n",
    "hist = salsa_model.fit(X, y, epochs=12, verbose=True)"
   ]
  },
  {
   "cell_type": "code",
   "execution_count": 117,
   "metadata": {
    "ExecuteTime": {
     "end_time": "2019-11-28T22:49:32.850134Z",
     "start_time": "2019-11-28T22:12:58.079656Z"
    }
   },
   "outputs": [
    {
     "name": "stdout",
     "output_type": "stream",
     "text": [
      "Epoch 1/90\n",
      "34944/34944 [==============================] - 20s 586us/step - loss: 6328.6471 - mean_squared_error: 6328.6471\n",
      "Epoch 2/90\n",
      "34944/34944 [==============================] - 21s 594us/step - loss: 6328.9917 - mean_squared_error: 6328.9917\n",
      "Epoch 3/90\n",
      "34944/34944 [==============================] - 22s 619us/step - loss: 6327.7609 - mean_squared_error: 6327.7609\n",
      "Epoch 4/90\n",
      "34944/34944 [==============================] - 22s 630us/step - loss: 6326.4343 - mean_squared_error: 6326.4343\n",
      "Epoch 5/90\n",
      "34944/34944 [==============================] - 25s 727us/step - loss: 6325.7525 - mean_squared_error: 6325.7525\n",
      "Epoch 6/90\n",
      "34944/34944 [==============================] - 23s 650us/step - loss: 6327.0432 - mean_squared_error: 6327.0432\n",
      "Epoch 7/90\n",
      "34944/34944 [==============================] - 23s 652us/step - loss: 6327.8899 - mean_squared_error: 6327.8899\n",
      "Epoch 8/90\n",
      "34944/34944 [==============================] - 23s 664us/step - loss: 6325.4311 - mean_squared_error: 6325.4311\n",
      "Epoch 9/90\n",
      "34944/34944 [==============================] - 24s 689us/step - loss: 6322.6681 - mean_squared_error: 6322.6681\n",
      "Epoch 10/90\n",
      "34944/34944 [==============================] - 24s 684us/step - loss: 6321.5320 - mean_squared_error: 6321.5320\n",
      "Epoch 11/90\n",
      "34944/34944 [==============================] - 24s 680us/step - loss: 6320.4156 - mean_squared_error: 6320.4156\n",
      "Epoch 12/90\n",
      "34944/34944 [==============================] - 24s 697us/step - loss: 6318.7717 - mean_squared_error: 6318.7717\n",
      "Epoch 13/90\n",
      "34944/34944 [==============================] - 24s 699us/step - loss: 6318.8535 - mean_squared_error: 6318.8535\n",
      "Epoch 14/90\n",
      "34944/34944 [==============================] - 25s 707us/step - loss: 6317.8944 - mean_squared_error: 6317.8944\n",
      "Epoch 15/90\n",
      "34944/34944 [==============================] - 25s 712us/step - loss: 6316.2507 - mean_squared_error: 6316.2507\n",
      "Epoch 16/90\n",
      "34944/34944 [==============================] - 25s 722us/step - loss: 6316.7354 - mean_squared_error: 6316.7354\n",
      "Epoch 17/90\n",
      "34944/34944 [==============================] - 25s 725us/step - loss: 6315.3322 - mean_squared_error: 6315.3322\n",
      "Epoch 18/90\n",
      "34944/34944 [==============================] - 25s 727us/step - loss: 6313.9836 - mean_squared_error: 6313.9836\n",
      "Epoch 19/90\n",
      "34944/34944 [==============================] - 25s 730us/step - loss: 6311.0614 - mean_squared_error: 6311.0614\n",
      "Epoch 20/90\n",
      "34944/34944 [==============================] - 26s 734us/step - loss: 6311.3415 - mean_squared_error: 6311.3415\n",
      "Epoch 21/90\n",
      "34944/34944 [==============================] - 26s 732us/step - loss: 6308.9544 - mean_squared_error: 6308.9544\n",
      "Epoch 22/90\n",
      "34944/34944 [==============================] - 26s 738us/step - loss: 6308.7858 - mean_squared_error: 6308.7858\n",
      "Epoch 23/90\n",
      "34944/34944 [==============================] - 26s 732us/step - loss: 6308.1528 - mean_squared_error: 6308.1528\n",
      "Epoch 24/90\n",
      "34944/34944 [==============================] - 26s 746us/step - loss: 6307.7831 - mean_squared_error: 6307.7831\n",
      "Epoch 25/90\n",
      "34944/34944 [==============================] - 25s 722us/step - loss: 6307.9530 - mean_squared_error: 6307.9530\n",
      "Epoch 26/90\n",
      "34944/34944 [==============================] - 26s 732us/step - loss: 6308.5943 - mean_squared_error: 6308.5943\n",
      "Epoch 27/90\n",
      "34944/34944 [==============================] - 26s 740us/step - loss: 6306.4107 - mean_squared_error: 6306.4107\n",
      "Epoch 28/90\n",
      "34944/34944 [==============================] - 26s 734us/step - loss: 6303.3861 - mean_squared_error: 6303.3861\n",
      "Epoch 29/90\n",
      "34944/34944 [==============================] - 26s 734us/step - loss: 6301.3891 - mean_squared_error: 6301.3891\n",
      "Epoch 30/90\n",
      "34944/34944 [==============================] - 26s 734us/step - loss: 6302.6991 - mean_squared_error: 6302.6991\n",
      "Epoch 31/90\n",
      "34944/34944 [==============================] - 26s 731us/step - loss: 6302.7239 - mean_squared_error: 6302.7239\n",
      "Epoch 32/90\n",
      "34944/34944 [==============================] - 25s 730us/step - loss: 6300.4914 - mean_squared_error: 6300.4914\n",
      "Epoch 33/90\n",
      "34944/34944 [==============================] - 27s 766us/step - loss: 6298.4238 - mean_squared_error: 6298.4238\n",
      "Epoch 34/90\n",
      "34944/34944 [==============================] - 25s 724us/step - loss: 6298.4860 - mean_squared_error: 6298.4860\n",
      "Epoch 35/90\n",
      "34944/34944 [==============================] - 25s 726us/step - loss: 6296.9733 - mean_squared_error: 6296.9733\n",
      "Epoch 36/90\n",
      "34944/34944 [==============================] - 25s 715us/step - loss: 6296.0929 - mean_squared_error: 6296.0929\n",
      "Epoch 37/90\n",
      "34944/34944 [==============================] - 26s 734us/step - loss: 6295.7979 - mean_squared_error: 6295.7979\n",
      "Epoch 38/90\n",
      "34944/34944 [==============================] - 26s 732us/step - loss: 6294.4712 - mean_squared_error: 6294.4712\n",
      "Epoch 39/90\n",
      "34944/34944 [==============================] - 25s 714us/step - loss: 6294.5418 - mean_squared_error: 6294.5418\n",
      "Epoch 40/90\n",
      "34944/34944 [==============================] - 25s 723us/step - loss: 6294.0908 - mean_squared_error: 6294.0908\n",
      "Epoch 41/90\n",
      "34944/34944 [==============================] - 25s 723us/step - loss: 6293.7807 - mean_squared_error: 6293.7807\n",
      "Epoch 42/90\n",
      "34944/34944 [==============================] - 25s 717us/step - loss: 6291.9998 - mean_squared_error: 6291.9998\n",
      "Epoch 43/90\n",
      "34944/34944 [==============================] - 25s 730us/step - loss: 6290.1610 - mean_squared_error: 6290.1610\n",
      "Epoch 44/90\n",
      "34944/34944 [==============================] - 25s 715us/step - loss: 6289.4876 - mean_squared_error: 6289.4876\n",
      "Epoch 45/90\n",
      "34944/34944 [==============================] - 25s 713us/step - loss: 6288.6690 - mean_squared_error: 6288.6690\n",
      "Epoch 46/90\n",
      "34944/34944 [==============================] - 25s 725us/step - loss: 6288.2956 - mean_squared_error: 6288.2956\n",
      "Epoch 47/90\n",
      "34944/34944 [==============================] - 26s 744us/step - loss: 6286.0207 - mean_squared_error: 6286.0207\n",
      "Epoch 48/90\n",
      "34944/34944 [==============================] - 27s 759us/step - loss: 6285.7918 - mean_squared_error: 6285.7918\n",
      "Epoch 49/90\n",
      "34944/34944 [==============================] - 25s 707us/step - loss: 6285.3050 - mean_squared_error: 6285.3050\n",
      "Epoch 50/90\n",
      "34944/34944 [==============================] - 24s 694us/step - loss: 6283.3249 - mean_squared_error: 6283.3249\n",
      "Epoch 51/90\n",
      "34944/34944 [==============================] - 24s 698us/step - loss: 6282.4796 - mean_squared_error: 6282.4796\n",
      "Epoch 52/90\n",
      "34944/34944 [==============================] - 25s 719us/step - loss: 6282.3221 - mean_squared_error: 6282.3221\n",
      "Epoch 53/90\n",
      "34944/34944 [==============================] - 25s 706us/step - loss: 6282.1190 - mean_squared_error: 6282.1190\n",
      "Epoch 54/90\n",
      "34944/34944 [==============================] - 24s 683us/step - loss: 6281.3744 - mean_squared_error: 6281.3744\n",
      "Epoch 55/90\n",
      "34944/34944 [==============================] - 24s 680us/step - loss: 6278.9013 - mean_squared_error: 6278.9013\n",
      "Epoch 56/90\n",
      "34944/34944 [==============================] - 24s 688us/step - loss: 6277.7592 - mean_squared_error: 6277.7592\n",
      "Epoch 57/90\n",
      "34944/34944 [==============================] - 24s 691us/step - loss: 6276.4317 - mean_squared_error: 6276.4317\n",
      "Epoch 58/90\n",
      "34944/34944 [==============================] - 24s 676us/step - loss: 6276.8243 - mean_squared_error: 6276.8243\n",
      "Epoch 59/90\n",
      "34944/34944 [==============================] - 24s 682us/step - loss: 6274.9244 - mean_squared_error: 6274.9244\n",
      "Epoch 60/90\n",
      "34944/34944 [==============================] - 24s 679us/step - loss: 6275.9685 - mean_squared_error: 6275.9685\n",
      "Epoch 61/90\n",
      "34944/34944 [==============================] - 24s 681us/step - loss: 6274.6971 - mean_squared_error: 6274.6971\n",
      "Epoch 62/90\n",
      "34944/34944 [==============================] - 24s 683us/step - loss: 6274.6351 - mean_squared_error: 6274.6351\n",
      "Epoch 63/90\n",
      "34944/34944 [==============================] - 24s 686us/step - loss: 6272.8503 - mean_squared_error: 6272.8503\n",
      "Epoch 64/90\n",
      "34944/34944 [==============================] - 24s 678us/step - loss: 6272.8976 - mean_squared_error: 6272.8976\n",
      "Epoch 65/90\n",
      "34944/34944 [==============================] - 24s 682us/step - loss: 6272.6977 - mean_squared_error: 6272.6977\n",
      "Epoch 66/90\n",
      "34944/34944 [==============================] - 24s 683us/step - loss: 6270.8251 - mean_squared_error: 6270.8251\n",
      "Epoch 67/90\n",
      "34944/34944 [==============================] - 24s 679us/step - loss: 6268.9270 - mean_squared_error: 6268.9270\n",
      "Epoch 68/90\n",
      "34944/34944 [==============================] - 25s 714us/step - loss: 6270.3575 - mean_squared_error: 6270.3575\n",
      "Epoch 69/90\n",
      "34944/34944 [==============================] - 26s 753us/step - loss: 6269.5351 - mean_squared_error: 6269.5351\n",
      "Epoch 70/90\n",
      "34944/34944 [==============================] - 24s 684us/step - loss: 6267.6012 - mean_squared_error: 6267.6012\n",
      "Epoch 71/90\n",
      "34944/34944 [==============================] - 24s 689us/step - loss: 6266.9133 - mean_squared_error: 6266.9133\n",
      "Epoch 72/90\n",
      "34944/34944 [==============================] - 25s 703us/step - loss: 6265.4496 - mean_squared_error: 6265.4496\n",
      "Epoch 73/90\n",
      "34944/34944 [==============================] - 24s 683us/step - loss: 6264.1513 - mean_squared_error: 6264.1513\n",
      "Epoch 74/90\n",
      "34944/34944 [==============================] - 23s 671us/step - loss: 6262.7878 - mean_squared_error: 6262.7878\n",
      "Epoch 75/90\n",
      "34944/34944 [==============================] - 24s 685us/step - loss: 6264.2603 - mean_squared_error: 6264.2603\n",
      "Epoch 76/90\n",
      "34944/34944 [==============================] - 23s 671us/step - loss: 6261.7627 - mean_squared_error: 6261.7627\n",
      "Epoch 77/90\n",
      "34944/34944 [==============================] - 24s 677us/step - loss: 6262.2110 - mean_squared_error: 6262.2110\n",
      "Epoch 78/90\n",
      "34944/34944 [==============================] - 23s 671us/step - loss: 6262.1546 - mean_squared_error: 6262.1546\n",
      "Epoch 79/90\n",
      "34944/34944 [==============================] - 23s 670us/step - loss: 6261.4905 - mean_squared_error: 6261.4905\n",
      "Epoch 80/90\n",
      "34944/34944 [==============================] - 24s 674us/step - loss: 6259.8844 - mean_squared_error: 6259.8844\n",
      "Epoch 81/90\n",
      "34944/34944 [==============================] - 24s 675us/step - loss: 6259.3522 - mean_squared_error: 6259.3522\n",
      "Epoch 82/90\n",
      "34944/34944 [==============================] - 24s 675us/step - loss: 6258.3778 - mean_squared_error: 6258.3778\n",
      "Epoch 83/90\n",
      "34944/34944 [==============================] - 24s 685us/step - loss: 6257.0358 - mean_squared_error: 6257.0358\n",
      "Epoch 84/90\n",
      "34944/34944 [==============================] - 23s 665us/step - loss: 6257.1910 - mean_squared_error: 6257.1910\n",
      "Epoch 85/90\n",
      "34944/34944 [==============================] - 24s 676us/step - loss: 6257.4775 - mean_squared_error: 6257.4775\n",
      "Epoch 86/90\n",
      "34944/34944 [==============================] - 23s 672us/step - loss: 6257.7331 - mean_squared_error: 6257.7331\n",
      "Epoch 87/90\n",
      "34944/34944 [==============================] - 23s 655us/step - loss: 6255.8006 - mean_squared_error: 6255.8006\n",
      "Epoch 88/90\n",
      "34944/34944 [==============================] - 23s 670us/step - loss: 6254.8708 - mean_squared_error: 6254.8708\n",
      "Epoch 89/90\n",
      "34944/34944 [==============================] - 23s 664us/step - loss: 6253.8402 - mean_squared_error: 6253.8402\n",
      "Epoch 90/90\n",
      "34944/34944 [==============================] - 23s 657us/step - loss: 6253.5125 - mean_squared_error: 6253.5125\n"
     ]
    }
   ],
   "source": [
    "hist = salsa_model.fit(X, y, epochs=90, verbose=True)"
   ]
  },
  {
   "cell_type": "code",
   "execution_count": 228,
   "metadata": {
    "ExecuteTime": {
     "end_time": "2019-11-29T02:02:59.778593Z",
     "start_time": "2019-11-29T02:02:59.319717Z"
    }
   },
   "outputs": [
    {
     "data": {
      "image/png": "[encoded data removed]",
      "text/plain": [
       "<Figure size 2160x1080 with 1 Axes>"
      ]
     },
     "metadata": {
      "needs_background": "light"
     },
     "output_type": "display_data"
    }
   ],
   "source": [
    "#from keras.models import load_model\n",
    "#salsa_model = load_model(\"../models/threelayerLSTM.h5\")\n",
    "import time\n",
    "\n",
    "d = np.random.randint(1, 71)\n",
    "p = np.random.randint(0, len(pose_data_by_dancer[d]))\n",
    "x = np.array([pose_data_by_dancer[d][p: p+seqLen]])\n",
    "gen_salsa = genSalsa(x, salsa_model, 48)\n",
    "#y_test = salsa_model.predict(x)\n",
    "#print(x)\n",
    "plt.rcParams['figure.figsize'] = [30, 15]\n",
    "plotSinglePose_mod(flat_to_pose(gen_salsa[0,seqLen+1,:]))"
   ]
  },
  {
   "cell_type": "code",
   "execution_count": 229,
   "metadata": {
    "ExecuteTime": {
     "end_time": "2019-11-29T02:03:13.795928Z",
     "start_time": "2019-11-29T02:03:05.481282Z"
    }
   },
   "outputs": [
    {
     "name": "stderr",
     "output_type": "stream",
     "text": [
      "MovieWriter imagemagick unavailable; trying to use <class 'matplotlib.animation.PillowWriter'> instead.\n"
     ]
    },
    {
     "data": {
      "image/png": "[encoded data removed]",
      "text/plain": [
       "<Figure size 1440x720 with 1 Axes>"
      ]
     },
     "metadata": {
      "needs_background": "light"
     },
     "output_type": "display_data"
    }
   ],
   "source": [
    "import matplotlib.pyplot as plt\n",
    "import matplotlib.animation as animation\n",
    "from matplotlib.animation import FuncAnimation\n",
    "from IPython.display import HTML\n",
    "%matplotlib inline\n",
    "\n",
    "x_for_anim = gen_salsa\n",
    "\n",
    "plt.rcParams['figure.figsize'] = [20, 10]                              \n",
    "fig = plt.figure()\n",
    "ax = plt.axes(xlim=(0, 640), ylim=(0, 360))\n",
    "                              \n",
    "def animate(i):\n",
    "    ax.clear()\n",
    "    pose = x_for_anim[0][i].reshape((-1, 2))\n",
    "    #print(pose)\n",
    "    imgArray = np.ones((360, 640))\n",
    "    ax.imshow(imgArray, cmap=plt.cm.Greys, interpolation = 'nearest')\n",
    "    for pair in POSE_PAIRS_MOD:\n",
    "        # Checking just xcoord for valid point is enough\n",
    "        valid_pt1 = (pose[pair[0]][0] != -1)\n",
    "        valid_pt2 = (pose[pair[1]][0] != -1)\n",
    "        if valid_pt1 and valid_pt2:\n",
    "            xs = [pose[pair[0]][0], pose[pair[1]][0]]\n",
    "            ys = [pose[pair[0]][1], pose[pair[1]][1]]\n",
    "            ax.plot(xs, ys,'ko-', linewidth=2)                         \n",
    "\n",
    "anim = FuncAnimation(fig, animate, frames=56, interval=125)\n",
    "anim\n",
    "anim.save('../preds/72Hidden_302iters_c.gif', writer='imagemagick')"
   ]
  },
  {
   "cell_type": "code",
   "execution_count": 230,
   "metadata": {
    "ExecuteTime": {
     "end_time": "2019-11-29T02:04:16.299620Z",
     "start_time": "2019-11-29T02:04:16.225419Z"
    }
   },
   "outputs": [],
   "source": [
    "salsa_model.save(\"../models/threelayerLSTM_relu_36kp_8seql_LrgHidden302Iters.h5\")"
   ]
  },
  {
   "cell_type": "code",
   "execution_count": 232,
   "metadata": {
    "ExecuteTime": {
     "end_time": "2019-11-29T04:41:48.608971Z",
     "start_time": "2019-11-29T04:41:48.579026Z"
    }
   },
   "outputs": [
    {
     "name": "stdout",
     "output_type": "stream",
     "text": [
      "Model: \"sequential_4\"\n",
      "_________________________________________________________________\n",
      "Layer (type)                 Output Shape              Param #   \n",
      "=================================================================\n",
      "lstm_10 (LSTM)               (None, 8, 72)             31392     \n",
      "_________________________________________________________________\n",
      "lstm_11 (LSTM)               (None, 8, 72)             41760     \n",
      "_________________________________________________________________\n",
      "lstm_12 (LSTM)               (None, 72)                41760     \n",
      "_________________________________________________________________\n",
      "dense_4 (Dense)              (None, 36)                2628      \n",
      "=================================================================\n",
      "Total params: 117,540\n",
      "Trainable params: 117,540\n",
      "Non-trainable params: 0\n",
      "_________________________________________________________________\n"
     ]
    }
   ],
   "source": [
    "salsa_model.summary()"
   ]
  }
 ],
 "metadata": {
  "kernelspec": {
   "display_name": "Python [conda env:metis] *",
   "language": "python",
   "name": "conda-env-metis-py"
  },
  "language_info": {
   "codemirror_mode": {
    "name": "ipython",
    "version": 3
   },
   "file_extension": ".py",
   "mimetype": "text/x-python",
   "name": "python",
   "nbconvert_exporter": "python",
   "pygments_lexer": "ipython3",
   "version": "3.7.3"
  },
  "toc": {
   "base_numbering": 1,
   "nav_menu": {},
   "number_sections": true,
   "sideBar": true,
   "skip_h1_title": false,
   "title_cell": "Table of Contents",
   "title_sidebar": "Contents",
   "toc_cell": false,
   "toc_position": {},
   "toc_section_display": true,
   "toc_window_display": false
  }
 },
 "nbformat": 4,
 "nbformat_minor": 2
}
